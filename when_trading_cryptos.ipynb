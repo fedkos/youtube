{
 "cells": [
  {
   "cell_type": "code",
   "execution_count": 1,
   "id": "da513fbd",
   "metadata": {},
   "outputs": [],
   "source": [
    "import pandas as pd\n",
    "import numpy as np\n",
    "from binance.client import Client\n",
    "import binance_keys as bk\n",
    "import datetime as dt\n",
    "from IPython.display import clear_output\n",
    "from datetime import timedelta\n",
    "import time\n",
    "import candles_getting as candles\n",
    "import plotly.express as px"
   ]
  },
  {
   "cell_type": "code",
   "execution_count": 2,
   "id": "2571f70d",
   "metadata": {},
   "outputs": [],
   "source": [
    "client = Client(bk.api_key, bk.secret_key)\n"
   ]
  },
  {
   "cell_type": "code",
   "execution_count": 3,
   "id": "3a89b0dd",
   "metadata": {},
   "outputs": [],
   "source": [
    "all_tickers = pd.DataFrame(client.get_ticker())"
   ]
  },
  {
   "cell_type": "code",
   "execution_count": 4,
   "id": "61cd60e9",
   "metadata": {},
   "outputs": [],
   "source": [
    "all_tickers[['priceChange', 'priceChangePercent', 'weightedAvgPrice',\n",
    "       'prevClosePrice', 'lastPrice', 'lastQty', 'bidPrice', 'bidQty',\n",
    "       'askPrice', 'askQty', 'openPrice', 'highPrice', 'lowPrice', 'volume',\n",
    "       'quoteVolume']] = all_tickers[['priceChange', 'priceChangePercent', 'weightedAvgPrice',\n",
    "       'prevClosePrice', 'lastPrice', 'lastQty', 'bidPrice', 'bidQty',\n",
    "       'askPrice', 'askQty', 'openPrice', 'highPrice', 'lowPrice', 'volume',\n",
    "       'quoteVolume']].astype('float').sort_values('quoteVolume', ascending = False)"
   ]
  },
  {
   "cell_type": "code",
   "execution_count": 5,
   "id": "fecb5be5",
   "metadata": {},
   "outputs": [],
   "source": [
    "usdt_pairs_info = all_tickers[all_tickers['symbol'].str.endswith('USDT')].head(10)['symbol'].to_list()\n",
    "btc_pairs_info = all_tickers[all_tickers['symbol'].str.endswith('BTC')].head(10)['symbol'].to_list()\n",
    "eth_pairs_info = all_tickers[all_tickers['symbol'].str.endswith('ETH')].head(10)['symbol'].to_list()"
   ]
  },
  {
   "cell_type": "code",
   "execution_count": 6,
   "id": "8c7b2d11",
   "metadata": {},
   "outputs": [],
   "source": [
    "full_list = usdt_pairs_info + btc_pairs_info + eth_pairs_info"
   ]
  },
  {
   "cell_type": "code",
   "execution_count": 7,
   "id": "3088e127",
   "metadata": {},
   "outputs": [
    {
     "name": "stdout",
     "output_type": "stream",
     "text": [
      "WTCETH in progress\n",
      "Error with {i}\n"
     ]
    }
   ],
   "source": [
    "common_df_lst = []\n",
    "cnt = 0\n",
    "\n",
    "for i in full_list:\n",
    "    \n",
    "    print(i, 'in progress')\n",
    "    \n",
    "    try:\n",
    "        \n",
    "        df = candles.hist_prices(i, '1h', '2022-01-01', '2022-12-27')\n",
    "        df['symbol'] = i\n",
    "        df['open_time_hr'] = df['open_time'].dt.hour\n",
    "        df['week'] = df['open_time'].dt.week\n",
    "        df['close_shift1'] =  df['close'].pct_change() * 100\n",
    "        common_df_lst.append(df)\n",
    "        \n",
    "    except:\n",
    "        \n",
    "        print('Error with {i}')\n",
    "        \n",
    "    cnt+=1\n",
    "    clear_output(wait = True)"
   ]
  },
  {
   "cell_type": "code",
   "execution_count": 17,
   "id": "cc07e706",
   "metadata": {},
   "outputs": [],
   "source": [
    "common_df = pd.concat(common_df_lst)"
   ]
  },
  {
   "cell_type": "code",
   "execution_count": 18,
   "id": "15706388",
   "metadata": {},
   "outputs": [],
   "source": [
    "common_df['period_range'] = common_df['high'] - common_df['low']"
   ]
  },
  {
   "cell_type": "code",
   "execution_count": 19,
   "id": "0e907d2d",
   "metadata": {},
   "outputs": [],
   "source": [
    "week_stats = common_df.groupby(['symbol','week','open_time_hr'])['period_range'].median().reset_index()"
   ]
  },
  {
   "cell_type": "code",
   "execution_count": 20,
   "id": "f8f29d21",
   "metadata": {},
   "outputs": [],
   "source": [
    "hour_stats = common_df.groupby(['symbol','open_time_hr'])['period_range'].median().reset_index()"
   ]
  },
  {
   "cell_type": "code",
   "execution_count": 21,
   "id": "25e78443",
   "metadata": {},
   "outputs": [],
   "source": [
    "indx_lst = hour_stats.groupby(['symbol'])['period_range'].nlargest(3).reset_index()['level_1']"
   ]
  },
  {
   "cell_type": "code",
   "execution_count": 22,
   "id": "97053523",
   "metadata": {
    "scrolled": true
   },
   "outputs": [],
   "source": [
    "top3_data = hour_stats.iloc[indx_lst]"
   ]
  },
  {
   "cell_type": "code",
   "execution_count": null,
   "id": "c45cce9b",
   "metadata": {
    "scrolled": true
   },
   "outputs": [],
   "source": []
  },
  {
   "cell_type": "code",
   "execution_count": 23,
   "id": "0965f66a",
   "metadata": {
    "scrolled": false
   },
   "outputs": [
    {
     "data": {
      "application/vnd.plotly.v1+json": {
       "config": {
        "plotlyServerURL": "https://plotly.com"
       },
       "data": [
        {
         "alignmentgroup": "True",
         "hovertemplate": "open_time_hr=%{x}<br>period_range=%{y}<extra></extra>",
         "legendgroup": "",
         "marker": {
          "color": "#636efa",
          "pattern": {
           "shape": ""
          }
         },
         "name": "",
         "offsetgroup": "",
         "orientation": "v",
         "showlegend": false,
         "textposition": "auto",
         "type": "bar",
         "x": [
          0,
          1,
          2,
          3,
          4,
          5,
          6,
          7,
          8,
          9,
          10,
          11,
          12,
          13,
          14,
          15,
          16,
          17,
          18,
          19,
          20,
          21,
          22,
          23
         ],
         "xaxis": "x",
         "y": [
          239.11000000000058,
          198.59499999999935,
          180.88500000000204,
          159.8050000000003,
          161.875,
          160.78499999999985,
          169.47499999999854,
          183.78999999999905,
          194.51499999999942,
          177.61000000000058,
          171.24999999999636,
          189.03500000000167,
          243.10500000000138,
          283.08500000000276,
          276.3650000000016,
          252.29500000000007,
          268.7549999999992,
          232.28499999999985,
          222.03499999999985,
          231.27000000000044,
          223.67499999999563,
          203.97499999999854,
          211.0599999999995,
          203.95000000000073
         ],
         "yaxis": "y"
        }
       ],
       "layout": {
        "barmode": "relative",
        "legend": {
         "tracegroupgap": 0
        },
        "margin": {
         "t": 60
        },
        "template": {
         "data": {
          "bar": [
           {
            "error_x": {
             "color": "#2a3f5f"
            },
            "error_y": {
             "color": "#2a3f5f"
            },
            "marker": {
             "line": {
              "color": "#E5ECF6",
              "width": 0.5
             },
             "pattern": {
              "fillmode": "overlay",
              "size": 10,
              "solidity": 0.2
             }
            },
            "type": "bar"
           }
          ],
          "barpolar": [
           {
            "marker": {
             "line": {
              "color": "#E5ECF6",
              "width": 0.5
             },
             "pattern": {
              "fillmode": "overlay",
              "size": 10,
              "solidity": 0.2
             }
            },
            "type": "barpolar"
           }
          ],
          "carpet": [
           {
            "aaxis": {
             "endlinecolor": "#2a3f5f",
             "gridcolor": "white",
             "linecolor": "white",
             "minorgridcolor": "white",
             "startlinecolor": "#2a3f5f"
            },
            "baxis": {
             "endlinecolor": "#2a3f5f",
             "gridcolor": "white",
             "linecolor": "white",
             "minorgridcolor": "white",
             "startlinecolor": "#2a3f5f"
            },
            "type": "carpet"
           }
          ],
          "choropleth": [
           {
            "colorbar": {
             "outlinewidth": 0,
             "ticks": ""
            },
            "type": "choropleth"
           }
          ],
          "contour": [
           {
            "colorbar": {
             "outlinewidth": 0,
             "ticks": ""
            },
            "colorscale": [
             [
              0,
              "#0d0887"
             ],
             [
              0.1111111111111111,
              "#46039f"
             ],
             [
              0.2222222222222222,
              "#7201a8"
             ],
             [
              0.3333333333333333,
              "#9c179e"
             ],
             [
              0.4444444444444444,
              "#bd3786"
             ],
             [
              0.5555555555555556,
              "#d8576b"
             ],
             [
              0.6666666666666666,
              "#ed7953"
             ],
             [
              0.7777777777777778,
              "#fb9f3a"
             ],
             [
              0.8888888888888888,
              "#fdca26"
             ],
             [
              1,
              "#f0f921"
             ]
            ],
            "type": "contour"
           }
          ],
          "contourcarpet": [
           {
            "colorbar": {
             "outlinewidth": 0,
             "ticks": ""
            },
            "type": "contourcarpet"
           }
          ],
          "heatmap": [
           {
            "colorbar": {
             "outlinewidth": 0,
             "ticks": ""
            },
            "colorscale": [
             [
              0,
              "#0d0887"
             ],
             [
              0.1111111111111111,
              "#46039f"
             ],
             [
              0.2222222222222222,
              "#7201a8"
             ],
             [
              0.3333333333333333,
              "#9c179e"
             ],
             [
              0.4444444444444444,
              "#bd3786"
             ],
             [
              0.5555555555555556,
              "#d8576b"
             ],
             [
              0.6666666666666666,
              "#ed7953"
             ],
             [
              0.7777777777777778,
              "#fb9f3a"
             ],
             [
              0.8888888888888888,
              "#fdca26"
             ],
             [
              1,
              "#f0f921"
             ]
            ],
            "type": "heatmap"
           }
          ],
          "heatmapgl": [
           {
            "colorbar": {
             "outlinewidth": 0,
             "ticks": ""
            },
            "colorscale": [
             [
              0,
              "#0d0887"
             ],
             [
              0.1111111111111111,
              "#46039f"
             ],
             [
              0.2222222222222222,
              "#7201a8"
             ],
             [
              0.3333333333333333,
              "#9c179e"
             ],
             [
              0.4444444444444444,
              "#bd3786"
             ],
             [
              0.5555555555555556,
              "#d8576b"
             ],
             [
              0.6666666666666666,
              "#ed7953"
             ],
             [
              0.7777777777777778,
              "#fb9f3a"
             ],
             [
              0.8888888888888888,
              "#fdca26"
             ],
             [
              1,
              "#f0f921"
             ]
            ],
            "type": "heatmapgl"
           }
          ],
          "histogram": [
           {
            "marker": {
             "pattern": {
              "fillmode": "overlay",
              "size": 10,
              "solidity": 0.2
             }
            },
            "type": "histogram"
           }
          ],
          "histogram2d": [
           {
            "colorbar": {
             "outlinewidth": 0,
             "ticks": ""
            },
            "colorscale": [
             [
              0,
              "#0d0887"
             ],
             [
              0.1111111111111111,
              "#46039f"
             ],
             [
              0.2222222222222222,
              "#7201a8"
             ],
             [
              0.3333333333333333,
              "#9c179e"
             ],
             [
              0.4444444444444444,
              "#bd3786"
             ],
             [
              0.5555555555555556,
              "#d8576b"
             ],
             [
              0.6666666666666666,
              "#ed7953"
             ],
             [
              0.7777777777777778,
              "#fb9f3a"
             ],
             [
              0.8888888888888888,
              "#fdca26"
             ],
             [
              1,
              "#f0f921"
             ]
            ],
            "type": "histogram2d"
           }
          ],
          "histogram2dcontour": [
           {
            "colorbar": {
             "outlinewidth": 0,
             "ticks": ""
            },
            "colorscale": [
             [
              0,
              "#0d0887"
             ],
             [
              0.1111111111111111,
              "#46039f"
             ],
             [
              0.2222222222222222,
              "#7201a8"
             ],
             [
              0.3333333333333333,
              "#9c179e"
             ],
             [
              0.4444444444444444,
              "#bd3786"
             ],
             [
              0.5555555555555556,
              "#d8576b"
             ],
             [
              0.6666666666666666,
              "#ed7953"
             ],
             [
              0.7777777777777778,
              "#fb9f3a"
             ],
             [
              0.8888888888888888,
              "#fdca26"
             ],
             [
              1,
              "#f0f921"
             ]
            ],
            "type": "histogram2dcontour"
           }
          ],
          "mesh3d": [
           {
            "colorbar": {
             "outlinewidth": 0,
             "ticks": ""
            },
            "type": "mesh3d"
           }
          ],
          "parcoords": [
           {
            "line": {
             "colorbar": {
              "outlinewidth": 0,
              "ticks": ""
             }
            },
            "type": "parcoords"
           }
          ],
          "pie": [
           {
            "automargin": true,
            "type": "pie"
           }
          ],
          "scatter": [
           {
            "fillpattern": {
             "fillmode": "overlay",
             "size": 10,
             "solidity": 0.2
            },
            "type": "scatter"
           }
          ],
          "scatter3d": [
           {
            "line": {
             "colorbar": {
              "outlinewidth": 0,
              "ticks": ""
             }
            },
            "marker": {
             "colorbar": {
              "outlinewidth": 0,
              "ticks": ""
             }
            },
            "type": "scatter3d"
           }
          ],
          "scattercarpet": [
           {
            "marker": {
             "colorbar": {
              "outlinewidth": 0,
              "ticks": ""
             }
            },
            "type": "scattercarpet"
           }
          ],
          "scattergeo": [
           {
            "marker": {
             "colorbar": {
              "outlinewidth": 0,
              "ticks": ""
             }
            },
            "type": "scattergeo"
           }
          ],
          "scattergl": [
           {
            "marker": {
             "colorbar": {
              "outlinewidth": 0,
              "ticks": ""
             }
            },
            "type": "scattergl"
           }
          ],
          "scattermapbox": [
           {
            "marker": {
             "colorbar": {
              "outlinewidth": 0,
              "ticks": ""
             }
            },
            "type": "scattermapbox"
           }
          ],
          "scatterpolar": [
           {
            "marker": {
             "colorbar": {
              "outlinewidth": 0,
              "ticks": ""
             }
            },
            "type": "scatterpolar"
           }
          ],
          "scatterpolargl": [
           {
            "marker": {
             "colorbar": {
              "outlinewidth": 0,
              "ticks": ""
             }
            },
            "type": "scatterpolargl"
           }
          ],
          "scatterternary": [
           {
            "marker": {
             "colorbar": {
              "outlinewidth": 0,
              "ticks": ""
             }
            },
            "type": "scatterternary"
           }
          ],
          "surface": [
           {
            "colorbar": {
             "outlinewidth": 0,
             "ticks": ""
            },
            "colorscale": [
             [
              0,
              "#0d0887"
             ],
             [
              0.1111111111111111,
              "#46039f"
             ],
             [
              0.2222222222222222,
              "#7201a8"
             ],
             [
              0.3333333333333333,
              "#9c179e"
             ],
             [
              0.4444444444444444,
              "#bd3786"
             ],
             [
              0.5555555555555556,
              "#d8576b"
             ],
             [
              0.6666666666666666,
              "#ed7953"
             ],
             [
              0.7777777777777778,
              "#fb9f3a"
             ],
             [
              0.8888888888888888,
              "#fdca26"
             ],
             [
              1,
              "#f0f921"
             ]
            ],
            "type": "surface"
           }
          ],
          "table": [
           {
            "cells": {
             "fill": {
              "color": "#EBF0F8"
             },
             "line": {
              "color": "white"
             }
            },
            "header": {
             "fill": {
              "color": "#C8D4E3"
             },
             "line": {
              "color": "white"
             }
            },
            "type": "table"
           }
          ]
         },
         "layout": {
          "annotationdefaults": {
           "arrowcolor": "#2a3f5f",
           "arrowhead": 0,
           "arrowwidth": 1
          },
          "autotypenumbers": "strict",
          "coloraxis": {
           "colorbar": {
            "outlinewidth": 0,
            "ticks": ""
           }
          },
          "colorscale": {
           "diverging": [
            [
             0,
             "#8e0152"
            ],
            [
             0.1,
             "#c51b7d"
            ],
            [
             0.2,
             "#de77ae"
            ],
            [
             0.3,
             "#f1b6da"
            ],
            [
             0.4,
             "#fde0ef"
            ],
            [
             0.5,
             "#f7f7f7"
            ],
            [
             0.6,
             "#e6f5d0"
            ],
            [
             0.7,
             "#b8e186"
            ],
            [
             0.8,
             "#7fbc41"
            ],
            [
             0.9,
             "#4d9221"
            ],
            [
             1,
             "#276419"
            ]
           ],
           "sequential": [
            [
             0,
             "#0d0887"
            ],
            [
             0.1111111111111111,
             "#46039f"
            ],
            [
             0.2222222222222222,
             "#7201a8"
            ],
            [
             0.3333333333333333,
             "#9c179e"
            ],
            [
             0.4444444444444444,
             "#bd3786"
            ],
            [
             0.5555555555555556,
             "#d8576b"
            ],
            [
             0.6666666666666666,
             "#ed7953"
            ],
            [
             0.7777777777777778,
             "#fb9f3a"
            ],
            [
             0.8888888888888888,
             "#fdca26"
            ],
            [
             1,
             "#f0f921"
            ]
           ],
           "sequentialminus": [
            [
             0,
             "#0d0887"
            ],
            [
             0.1111111111111111,
             "#46039f"
            ],
            [
             0.2222222222222222,
             "#7201a8"
            ],
            [
             0.3333333333333333,
             "#9c179e"
            ],
            [
             0.4444444444444444,
             "#bd3786"
            ],
            [
             0.5555555555555556,
             "#d8576b"
            ],
            [
             0.6666666666666666,
             "#ed7953"
            ],
            [
             0.7777777777777778,
             "#fb9f3a"
            ],
            [
             0.8888888888888888,
             "#fdca26"
            ],
            [
             1,
             "#f0f921"
            ]
           ]
          },
          "colorway": [
           "#636efa",
           "#EF553B",
           "#00cc96",
           "#ab63fa",
           "#FFA15A",
           "#19d3f3",
           "#FF6692",
           "#B6E880",
           "#FF97FF",
           "#FECB52"
          ],
          "font": {
           "color": "#2a3f5f"
          },
          "geo": {
           "bgcolor": "white",
           "lakecolor": "white",
           "landcolor": "#E5ECF6",
           "showlakes": true,
           "showland": true,
           "subunitcolor": "white"
          },
          "hoverlabel": {
           "align": "left"
          },
          "hovermode": "closest",
          "mapbox": {
           "style": "light"
          },
          "paper_bgcolor": "white",
          "plot_bgcolor": "#E5ECF6",
          "polar": {
           "angularaxis": {
            "gridcolor": "white",
            "linecolor": "white",
            "ticks": ""
           },
           "bgcolor": "#E5ECF6",
           "radialaxis": {
            "gridcolor": "white",
            "linecolor": "white",
            "ticks": ""
           }
          },
          "scene": {
           "xaxis": {
            "backgroundcolor": "#E5ECF6",
            "gridcolor": "white",
            "gridwidth": 2,
            "linecolor": "white",
            "showbackground": true,
            "ticks": "",
            "zerolinecolor": "white"
           },
           "yaxis": {
            "backgroundcolor": "#E5ECF6",
            "gridcolor": "white",
            "gridwidth": 2,
            "linecolor": "white",
            "showbackground": true,
            "ticks": "",
            "zerolinecolor": "white"
           },
           "zaxis": {
            "backgroundcolor": "#E5ECF6",
            "gridcolor": "white",
            "gridwidth": 2,
            "linecolor": "white",
            "showbackground": true,
            "ticks": "",
            "zerolinecolor": "white"
           }
          },
          "shapedefaults": {
           "line": {
            "color": "#2a3f5f"
           }
          },
          "ternary": {
           "aaxis": {
            "gridcolor": "white",
            "linecolor": "white",
            "ticks": ""
           },
           "baxis": {
            "gridcolor": "white",
            "linecolor": "white",
            "ticks": ""
           },
           "bgcolor": "#E5ECF6",
           "caxis": {
            "gridcolor": "white",
            "linecolor": "white",
            "ticks": ""
           }
          },
          "title": {
           "x": 0.05
          },
          "xaxis": {
           "automargin": true,
           "gridcolor": "white",
           "linecolor": "white",
           "ticks": "",
           "title": {
            "standoff": 15
           },
           "zerolinecolor": "white",
           "zerolinewidth": 2
          },
          "yaxis": {
           "automargin": true,
           "gridcolor": "white",
           "linecolor": "white",
           "ticks": "",
           "title": {
            "standoff": 15
           },
           "zerolinecolor": "white",
           "zerolinewidth": 2
          }
         }
        },
        "xaxis": {
         "anchor": "y",
         "domain": [
          0,
          1
         ],
         "title": {
          "text": "open_time_hr"
         }
        },
        "yaxis": {
         "anchor": "x",
         "domain": [
          0,
          1
         ],
         "title": {
          "text": "period_range"
         }
        }
       }
      },
      "text/html": [
       "<div>                            <div id=\"996f2a37-a0d4-4431-aa7d-cbf50f7bf1d0\" class=\"plotly-graph-div\" style=\"height:525px; width:100%;\"></div>            <script type=\"text/javascript\">                require([\"plotly\"], function(Plotly) {                    window.PLOTLYENV=window.PLOTLYENV || {};                                    if (document.getElementById(\"996f2a37-a0d4-4431-aa7d-cbf50f7bf1d0\")) {                    Plotly.newPlot(                        \"996f2a37-a0d4-4431-aa7d-cbf50f7bf1d0\",                        [{\"alignmentgroup\":\"True\",\"hovertemplate\":\"open_time_hr=%{x}<br>period_range=%{y}<extra></extra>\",\"legendgroup\":\"\",\"marker\":{\"color\":\"#636efa\",\"pattern\":{\"shape\":\"\"}},\"name\":\"\",\"offsetgroup\":\"\",\"orientation\":\"v\",\"showlegend\":false,\"textposition\":\"auto\",\"x\":[0,1,2,3,4,5,6,7,8,9,10,11,12,13,14,15,16,17,18,19,20,21,22,23],\"xaxis\":\"x\",\"y\":[239.11000000000058,198.59499999999935,180.88500000000204,159.8050000000003,161.875,160.78499999999985,169.47499999999854,183.78999999999905,194.51499999999942,177.61000000000058,171.24999999999636,189.03500000000167,243.10500000000138,283.08500000000276,276.3650000000016,252.29500000000007,268.7549999999992,232.28499999999985,222.03499999999985,231.27000000000044,223.67499999999563,203.97499999999854,211.0599999999995,203.95000000000073],\"yaxis\":\"y\",\"type\":\"bar\"}],                        {\"template\":{\"data\":{\"histogram2dcontour\":[{\"type\":\"histogram2dcontour\",\"colorbar\":{\"outlinewidth\":0,\"ticks\":\"\"},\"colorscale\":[[0.0,\"#0d0887\"],[0.1111111111111111,\"#46039f\"],[0.2222222222222222,\"#7201a8\"],[0.3333333333333333,\"#9c179e\"],[0.4444444444444444,\"#bd3786\"],[0.5555555555555556,\"#d8576b\"],[0.6666666666666666,\"#ed7953\"],[0.7777777777777778,\"#fb9f3a\"],[0.8888888888888888,\"#fdca26\"],[1.0,\"#f0f921\"]]}],\"choropleth\":[{\"type\":\"choropleth\",\"colorbar\":{\"outlinewidth\":0,\"ticks\":\"\"}}],\"histogram2d\":[{\"type\":\"histogram2d\",\"colorbar\":{\"outlinewidth\":0,\"ticks\":\"\"},\"colorscale\":[[0.0,\"#0d0887\"],[0.1111111111111111,\"#46039f\"],[0.2222222222222222,\"#7201a8\"],[0.3333333333333333,\"#9c179e\"],[0.4444444444444444,\"#bd3786\"],[0.5555555555555556,\"#d8576b\"],[0.6666666666666666,\"#ed7953\"],[0.7777777777777778,\"#fb9f3a\"],[0.8888888888888888,\"#fdca26\"],[1.0,\"#f0f921\"]]}],\"heatmap\":[{\"type\":\"heatmap\",\"colorbar\":{\"outlinewidth\":0,\"ticks\":\"\"},\"colorscale\":[[0.0,\"#0d0887\"],[0.1111111111111111,\"#46039f\"],[0.2222222222222222,\"#7201a8\"],[0.3333333333333333,\"#9c179e\"],[0.4444444444444444,\"#bd3786\"],[0.5555555555555556,\"#d8576b\"],[0.6666666666666666,\"#ed7953\"],[0.7777777777777778,\"#fb9f3a\"],[0.8888888888888888,\"#fdca26\"],[1.0,\"#f0f921\"]]}],\"heatmapgl\":[{\"type\":\"heatmapgl\",\"colorbar\":{\"outlinewidth\":0,\"ticks\":\"\"},\"colorscale\":[[0.0,\"#0d0887\"],[0.1111111111111111,\"#46039f\"],[0.2222222222222222,\"#7201a8\"],[0.3333333333333333,\"#9c179e\"],[0.4444444444444444,\"#bd3786\"],[0.5555555555555556,\"#d8576b\"],[0.6666666666666666,\"#ed7953\"],[0.7777777777777778,\"#fb9f3a\"],[0.8888888888888888,\"#fdca26\"],[1.0,\"#f0f921\"]]}],\"contourcarpet\":[{\"type\":\"contourcarpet\",\"colorbar\":{\"outlinewidth\":0,\"ticks\":\"\"}}],\"contour\":[{\"type\":\"contour\",\"colorbar\":{\"outlinewidth\":0,\"ticks\":\"\"},\"colorscale\":[[0.0,\"#0d0887\"],[0.1111111111111111,\"#46039f\"],[0.2222222222222222,\"#7201a8\"],[0.3333333333333333,\"#9c179e\"],[0.4444444444444444,\"#bd3786\"],[0.5555555555555556,\"#d8576b\"],[0.6666666666666666,\"#ed7953\"],[0.7777777777777778,\"#fb9f3a\"],[0.8888888888888888,\"#fdca26\"],[1.0,\"#f0f921\"]]}],\"surface\":[{\"type\":\"surface\",\"colorbar\":{\"outlinewidth\":0,\"ticks\":\"\"},\"colorscale\":[[0.0,\"#0d0887\"],[0.1111111111111111,\"#46039f\"],[0.2222222222222222,\"#7201a8\"],[0.3333333333333333,\"#9c179e\"],[0.4444444444444444,\"#bd3786\"],[0.5555555555555556,\"#d8576b\"],[0.6666666666666666,\"#ed7953\"],[0.7777777777777778,\"#fb9f3a\"],[0.8888888888888888,\"#fdca26\"],[1.0,\"#f0f921\"]]}],\"mesh3d\":[{\"type\":\"mesh3d\",\"colorbar\":{\"outlinewidth\":0,\"ticks\":\"\"}}],\"scatter\":[{\"fillpattern\":{\"fillmode\":\"overlay\",\"size\":10,\"solidity\":0.2},\"type\":\"scatter\"}],\"parcoords\":[{\"type\":\"parcoords\",\"line\":{\"colorbar\":{\"outlinewidth\":0,\"ticks\":\"\"}}}],\"scatterpolargl\":[{\"type\":\"scatterpolargl\",\"marker\":{\"colorbar\":{\"outlinewidth\":0,\"ticks\":\"\"}}}],\"bar\":[{\"error_x\":{\"color\":\"#2a3f5f\"},\"error_y\":{\"color\":\"#2a3f5f\"},\"marker\":{\"line\":{\"color\":\"#E5ECF6\",\"width\":0.5},\"pattern\":{\"fillmode\":\"overlay\",\"size\":10,\"solidity\":0.2}},\"type\":\"bar\"}],\"scattergeo\":[{\"type\":\"scattergeo\",\"marker\":{\"colorbar\":{\"outlinewidth\":0,\"ticks\":\"\"}}}],\"scatterpolar\":[{\"type\":\"scatterpolar\",\"marker\":{\"colorbar\":{\"outlinewidth\":0,\"ticks\":\"\"}}}],\"histogram\":[{\"marker\":{\"pattern\":{\"fillmode\":\"overlay\",\"size\":10,\"solidity\":0.2}},\"type\":\"histogram\"}],\"scattergl\":[{\"type\":\"scattergl\",\"marker\":{\"colorbar\":{\"outlinewidth\":0,\"ticks\":\"\"}}}],\"scatter3d\":[{\"type\":\"scatter3d\",\"line\":{\"colorbar\":{\"outlinewidth\":0,\"ticks\":\"\"}},\"marker\":{\"colorbar\":{\"outlinewidth\":0,\"ticks\":\"\"}}}],\"scattermapbox\":[{\"type\":\"scattermapbox\",\"marker\":{\"colorbar\":{\"outlinewidth\":0,\"ticks\":\"\"}}}],\"scatterternary\":[{\"type\":\"scatterternary\",\"marker\":{\"colorbar\":{\"outlinewidth\":0,\"ticks\":\"\"}}}],\"scattercarpet\":[{\"type\":\"scattercarpet\",\"marker\":{\"colorbar\":{\"outlinewidth\":0,\"ticks\":\"\"}}}],\"carpet\":[{\"aaxis\":{\"endlinecolor\":\"#2a3f5f\",\"gridcolor\":\"white\",\"linecolor\":\"white\",\"minorgridcolor\":\"white\",\"startlinecolor\":\"#2a3f5f\"},\"baxis\":{\"endlinecolor\":\"#2a3f5f\",\"gridcolor\":\"white\",\"linecolor\":\"white\",\"minorgridcolor\":\"white\",\"startlinecolor\":\"#2a3f5f\"},\"type\":\"carpet\"}],\"table\":[{\"cells\":{\"fill\":{\"color\":\"#EBF0F8\"},\"line\":{\"color\":\"white\"}},\"header\":{\"fill\":{\"color\":\"#C8D4E3\"},\"line\":{\"color\":\"white\"}},\"type\":\"table\"}],\"barpolar\":[{\"marker\":{\"line\":{\"color\":\"#E5ECF6\",\"width\":0.5},\"pattern\":{\"fillmode\":\"overlay\",\"size\":10,\"solidity\":0.2}},\"type\":\"barpolar\"}],\"pie\":[{\"automargin\":true,\"type\":\"pie\"}]},\"layout\":{\"autotypenumbers\":\"strict\",\"colorway\":[\"#636efa\",\"#EF553B\",\"#00cc96\",\"#ab63fa\",\"#FFA15A\",\"#19d3f3\",\"#FF6692\",\"#B6E880\",\"#FF97FF\",\"#FECB52\"],\"font\":{\"color\":\"#2a3f5f\"},\"hovermode\":\"closest\",\"hoverlabel\":{\"align\":\"left\"},\"paper_bgcolor\":\"white\",\"plot_bgcolor\":\"#E5ECF6\",\"polar\":{\"bgcolor\":\"#E5ECF6\",\"angularaxis\":{\"gridcolor\":\"white\",\"linecolor\":\"white\",\"ticks\":\"\"},\"radialaxis\":{\"gridcolor\":\"white\",\"linecolor\":\"white\",\"ticks\":\"\"}},\"ternary\":{\"bgcolor\":\"#E5ECF6\",\"aaxis\":{\"gridcolor\":\"white\",\"linecolor\":\"white\",\"ticks\":\"\"},\"baxis\":{\"gridcolor\":\"white\",\"linecolor\":\"white\",\"ticks\":\"\"},\"caxis\":{\"gridcolor\":\"white\",\"linecolor\":\"white\",\"ticks\":\"\"}},\"coloraxis\":{\"colorbar\":{\"outlinewidth\":0,\"ticks\":\"\"}},\"colorscale\":{\"sequential\":[[0.0,\"#0d0887\"],[0.1111111111111111,\"#46039f\"],[0.2222222222222222,\"#7201a8\"],[0.3333333333333333,\"#9c179e\"],[0.4444444444444444,\"#bd3786\"],[0.5555555555555556,\"#d8576b\"],[0.6666666666666666,\"#ed7953\"],[0.7777777777777778,\"#fb9f3a\"],[0.8888888888888888,\"#fdca26\"],[1.0,\"#f0f921\"]],\"sequentialminus\":[[0.0,\"#0d0887\"],[0.1111111111111111,\"#46039f\"],[0.2222222222222222,\"#7201a8\"],[0.3333333333333333,\"#9c179e\"],[0.4444444444444444,\"#bd3786\"],[0.5555555555555556,\"#d8576b\"],[0.6666666666666666,\"#ed7953\"],[0.7777777777777778,\"#fb9f3a\"],[0.8888888888888888,\"#fdca26\"],[1.0,\"#f0f921\"]],\"diverging\":[[0,\"#8e0152\"],[0.1,\"#c51b7d\"],[0.2,\"#de77ae\"],[0.3,\"#f1b6da\"],[0.4,\"#fde0ef\"],[0.5,\"#f7f7f7\"],[0.6,\"#e6f5d0\"],[0.7,\"#b8e186\"],[0.8,\"#7fbc41\"],[0.9,\"#4d9221\"],[1,\"#276419\"]]},\"xaxis\":{\"gridcolor\":\"white\",\"linecolor\":\"white\",\"ticks\":\"\",\"title\":{\"standoff\":15},\"zerolinecolor\":\"white\",\"automargin\":true,\"zerolinewidth\":2},\"yaxis\":{\"gridcolor\":\"white\",\"linecolor\":\"white\",\"ticks\":\"\",\"title\":{\"standoff\":15},\"zerolinecolor\":\"white\",\"automargin\":true,\"zerolinewidth\":2},\"scene\":{\"xaxis\":{\"backgroundcolor\":\"#E5ECF6\",\"gridcolor\":\"white\",\"linecolor\":\"white\",\"showbackground\":true,\"ticks\":\"\",\"zerolinecolor\":\"white\",\"gridwidth\":2},\"yaxis\":{\"backgroundcolor\":\"#E5ECF6\",\"gridcolor\":\"white\",\"linecolor\":\"white\",\"showbackground\":true,\"ticks\":\"\",\"zerolinecolor\":\"white\",\"gridwidth\":2},\"zaxis\":{\"backgroundcolor\":\"#E5ECF6\",\"gridcolor\":\"white\",\"linecolor\":\"white\",\"showbackground\":true,\"ticks\":\"\",\"zerolinecolor\":\"white\",\"gridwidth\":2}},\"shapedefaults\":{\"line\":{\"color\":\"#2a3f5f\"}},\"annotationdefaults\":{\"arrowcolor\":\"#2a3f5f\",\"arrowhead\":0,\"arrowwidth\":1},\"geo\":{\"bgcolor\":\"white\",\"landcolor\":\"#E5ECF6\",\"subunitcolor\":\"white\",\"showland\":true,\"showlakes\":true,\"lakecolor\":\"white\"},\"title\":{\"x\":0.05},\"mapbox\":{\"style\":\"light\"}}},\"xaxis\":{\"anchor\":\"y\",\"domain\":[0.0,1.0],\"title\":{\"text\":\"open_time_hr\"}},\"yaxis\":{\"anchor\":\"x\",\"domain\":[0.0,1.0],\"title\":{\"text\":\"period_range\"}},\"legend\":{\"tracegroupgap\":0},\"margin\":{\"t\":60},\"barmode\":\"relative\"},                        {\"responsive\": true}                    ).then(function(){\n",
       "                            \n",
       "var gd = document.getElementById('996f2a37-a0d4-4431-aa7d-cbf50f7bf1d0');\n",
       "var x = new MutationObserver(function (mutations, observer) {{\n",
       "        var display = window.getComputedStyle(gd).display;\n",
       "        if (!display || display === 'none') {{\n",
       "            console.log([gd, 'removed!']);\n",
       "            Plotly.purge(gd);\n",
       "            observer.disconnect();\n",
       "        }}\n",
       "}});\n",
       "\n",
       "// Listen for the removal of the full notebook cells\n",
       "var notebookContainer = gd.closest('#notebook-container');\n",
       "if (notebookContainer) {{\n",
       "    x.observe(notebookContainer, {childList: true});\n",
       "}}\n",
       "\n",
       "// Listen for the clearing of the current output cell\n",
       "var outputEl = gd.closest('.output');\n",
       "if (outputEl) {{\n",
       "    x.observe(outputEl, {childList: true});\n",
       "}}\n",
       "\n",
       "                        })                };                });            </script>        </div>"
      ]
     },
     "metadata": {},
     "output_type": "display_data"
    }
   ],
   "source": [
    "px.bar(hour_stats.query('symbol == \"BTCUSDT\"'), x = 'open_time_hr', y = 'period_range')"
   ]
  },
  {
   "cell_type": "code",
   "execution_count": 26,
   "id": "216ac575",
   "metadata": {
    "scrolled": false
   },
   "outputs": [
    {
     "data": {
      "application/vnd.plotly.v1+json": {
       "config": {
        "plotlyServerURL": "https://plotly.com"
       },
       "data": [
        {
         "hovertemplate": "open_time_hr=0<br>week=%{x}<br>period_range=%{y}<extra></extra>",
         "legendgroup": "0",
         "line": {
          "color": "#636efa",
          "dash": "solid"
         },
         "marker": {
          "symbol": "circle"
         },
         "mode": "lines",
         "name": "0",
         "showlegend": true,
         "type": "scattergl",
         "x": [
          1,
          2,
          3,
          4,
          5,
          6,
          7,
          8,
          9,
          10,
          11,
          12,
          13,
          14,
          15,
          16,
          17,
          18,
          19,
          20,
          21,
          22,
          23,
          24,
          25,
          26,
          27,
          28,
          29,
          30,
          31,
          32,
          33,
          34,
          35,
          36,
          37,
          38,
          39,
          40,
          41,
          42,
          43,
          44,
          45,
          46,
          47,
          48,
          49,
          50,
          51,
          52
         ],
         "xaxis": "x",
         "y": [
          443.1200000000026,
          386.9800000000032,
          319.49000000000524,
          439.8399999999965,
          350.91999999999825,
          436.8099999999977,
          277.95000000000437,
          566.9699999999939,
          474.6100000000006,
          373.5500000000029,
          328.9100000000035,
          260.5599999999977,
          347,
          295.6600000000035,
          296.5699999999997,
          290.97000000000116,
          306.7900000000009,
          273.6600000000035,
          546.630000000001,
          280.90000000000146,
          266.0300000000025,
          170.9900000000016,
          276.3899999999994,
          383.34000000000015,
          308.97000000000116,
          189.8199999999997,
          240.95000000000073,
          199.38000000000102,
          264.22000000000116,
          262,
          207.29999999999927,
          182.72999999999956,
          219.0099999999984,
          178.52999999999884,
          138.9300000000003,
          179.25,
          206.69000000000233,
          162.97000000000116,
          168.05999999999767,
          169.3199999999997,
          107.88999999999942,
          100.47000000000116,
          125.58000000000175,
          128.69000000000233,
          255.13000000000102,
          147.09000000000015,
          93.40999999999985,
          113.63999999999942,
          80.0099999999984,
          84.04999999999927,
          62.7599999999984,
          251.35499999999956
         ],
         "yaxis": "y"
        },
        {
         "hovertemplate": "open_time_hr=1<br>week=%{x}<br>period_range=%{y}<extra></extra>",
         "legendgroup": "1",
         "line": {
          "color": "#EF553B",
          "dash": "solid"
         },
         "marker": {
          "symbol": "circle"
         },
         "mode": "lines",
         "name": "1",
         "showlegend": true,
         "type": "scattergl",
         "x": [
          1,
          2,
          3,
          4,
          5,
          6,
          7,
          8,
          9,
          10,
          11,
          12,
          13,
          14,
          15,
          16,
          17,
          18,
          19,
          20,
          21,
          22,
          23,
          24,
          25,
          26,
          27,
          28,
          29,
          30,
          31,
          32,
          33,
          34,
          35,
          36,
          37,
          38,
          39,
          40,
          41,
          42,
          43,
          44,
          45,
          46,
          47,
          48,
          49,
          50,
          51,
          52
         ],
         "xaxis": "x",
         "y": [
          328.1399999999994,
          249,
          257.9400000000023,
          426.91999999999825,
          231.13999999999942,
          300.48999999999796,
          254.66999999999825,
          615.5499999999956,
          516.9599999999991,
          405.1900000000023,
          490,
          283.16999999999825,
          534.9100000000035,
          291.6299999999974,
          261.65000000000146,
          170.2300000000032,
          175,
          160.12000000000262,
          456.4599999999991,
          399.8099999999977,
          158.62000000000262,
          200.27000000000044,
          345.9399999999987,
          631.6899999999987,
          273.09000000000015,
          150.72999999999956,
          173.79999999999927,
          209.08000000000175,
          242.70000000000073,
          153.28000000000247,
          154.77999999999884,
          162.4300000000003,
          134.38999999999942,
          117.20000000000073,
          100.59000000000015,
          141.20999999999913,
          136.14999999999782,
          148.09000000000015,
          184.84000000000015,
          81.66999999999825,
          66.97000000000116,
          70.87000000000262,
          99.10000000000218,
          119.29999999999927,
          184.22999999999956,
          83.63000000000102,
          92.05999999999949,
          125.65999999999985,
          67.40000000000146,
          58.11000000000058,
          45.54999999999927,
          326.45000000000437
         ],
         "yaxis": "y"
        },
        {
         "hovertemplate": "open_time_hr=2<br>week=%{x}<br>period_range=%{y}<extra></extra>",
         "legendgroup": "2",
         "line": {
          "color": "#00cc96",
          "dash": "solid"
         },
         "marker": {
          "symbol": "circle"
         },
         "mode": "lines",
         "name": "2",
         "showlegend": true,
         "type": "scattergl",
         "x": [
          1,
          2,
          3,
          4,
          5,
          6,
          7,
          8,
          9,
          10,
          11,
          12,
          13,
          14,
          15,
          16,
          17,
          18,
          19,
          20,
          21,
          22,
          23,
          24,
          25,
          26,
          27,
          28,
          29,
          30,
          31,
          32,
          33,
          34,
          35,
          36,
          37,
          38,
          39,
          40,
          41,
          42,
          43,
          44,
          45,
          46,
          47,
          48,
          49,
          50,
          51,
          52
         ],
         "xaxis": "x",
         "y": [
          278.65000000000146,
          262.2900000000009,
          286.9100000000035,
          263.13000000000466,
          280.5,
          378.8899999999994,
          220,
          387.9599999999991,
          241.92000000000553,
          433.4799999999959,
          276.6100000000006,
          288.65000000000146,
          245.61999999999534,
          218.29000000000087,
          260.4800000000032,
          163.91999999999825,
          222.2199999999939,
          243.62999999999738,
          782.7900000000009,
          246.16999999999825,
          171.22999999999956,
          134.9900000000016,
          295.3299999999981,
          323.59000000000015,
          228.27000000000044,
          143.4300000000003,
          176.55999999999767,
          132.7400000000016,
          246.5,
          180.45000000000073,
          112.43999999999869,
          182.7400000000016,
          157.59999999999854,
          113.80000000000291,
          124.30000000000291,
          121.16999999999825,
          181.41999999999825,
          131,
          164.48999999999796,
          67.04999999999927,
          72.98999999999796,
          67.7400000000016,
          88.2599999999984,
          73.75,
          218.47999999999956,
          131.77999999999884,
          133.96000000000276,
          59.26999999999862,
          51.19000000000233,
          59.19000000000233,
          41.81999999999971,
          174.05999999999767
         ],
         "yaxis": "y"
        },
        {
         "hovertemplate": "open_time_hr=3<br>week=%{x}<br>period_range=%{y}<extra></extra>",
         "legendgroup": "3",
         "line": {
          "color": "#ab63fa",
          "dash": "solid"
         },
         "marker": {
          "symbol": "circle"
         },
         "mode": "lines",
         "name": "3",
         "showlegend": true,
         "type": "scattergl",
         "x": [
          1,
          2,
          3,
          4,
          5,
          6,
          7,
          8,
          9,
          10,
          11,
          12,
          13,
          14,
          15,
          16,
          17,
          18,
          19,
          20,
          21,
          22,
          23,
          24,
          25,
          26,
          27,
          28,
          29,
          30,
          31,
          32,
          33,
          34,
          35,
          36,
          37,
          38,
          39,
          40,
          41,
          42,
          43,
          44,
          45,
          46,
          47,
          48,
          49,
          50,
          51,
          52
         ],
         "xaxis": "x",
         "y": [
          362.4100000000035,
          185.34999999999854,
          357.34999999999854,
          293.5899999999965,
          154.20000000000437,
          316.2700000000041,
          207.0699999999997,
          449.4300000000003,
          287.9599999999991,
          383.25999999999476,
          204.40999999999622,
          284.84999999999854,
          228.94000000000233,
          174.45999999999913,
          207.25,
          160.02999999999884,
          198.55999999999767,
          138.16999999999825,
          534.119999999999,
          236,
          153.27999999999884,
          153.88000000000102,
          350.7599999999984,
          487.4399999999987,
          237.5,
          127.18000000000029,
          144.13999999999942,
          171.34000000000015,
          188.13000000000102,
          178.69000000000233,
          127.90999999999985,
          89.63999999999942,
          96.66999999999825,
          103.54999999999927,
          164.3199999999997,
          97.18000000000029,
          127.81999999999971,
          134.0600000000013,
          117.09000000000015,
          73.70999999999913,
          47.54000000000087,
          54.210000000002765,
          93.18999999999869,
          59.45999999999913,
          327.4500000000007,
          98.29000000000087,
          87.45999999999913,
          45.48999999999978,
          43.04000000000087,
          45.38999999999942,
          58.04000000000087,
          156.50999999999476
         ],
         "yaxis": "y"
        },
        {
         "hovertemplate": "open_time_hr=4<br>week=%{x}<br>period_range=%{y}<extra></extra>",
         "legendgroup": "4",
         "line": {
          "color": "#FFA15A",
          "dash": "solid"
         },
         "marker": {
          "symbol": "circle"
         },
         "mode": "lines",
         "name": "4",
         "showlegend": true,
         "type": "scattergl",
         "x": [
          1,
          2,
          3,
          4,
          5,
          6,
          7,
          8,
          9,
          10,
          11,
          12,
          13,
          14,
          15,
          16,
          17,
          18,
          19,
          20,
          21,
          22,
          23,
          24,
          25,
          26,
          27,
          28,
          29,
          30,
          31,
          32,
          33,
          34,
          35,
          36,
          37,
          38,
          39,
          40,
          41,
          42,
          43,
          44,
          45,
          46,
          47,
          48,
          49,
          50,
          51,
          52
         ],
         "xaxis": "x",
         "y": [
          302.52999999999884,
          248.5199999999968,
          220.44000000000233,
          408.4499999999971,
          176.95999999999913,
          255.66999999999825,
          301.02999999999884,
          290.4400000000023,
          349.9400000000023,
          283.51000000000204,
          272.08000000000175,
          217.15999999999622,
          321.5400000000009,
          256.3799999999974,
          198.88999999999942,
          225,
          178.11000000000058,
          156.9499999999971,
          357.8500000000022,
          194.4300000000003,
          141.15000000000146,
          173.1800000000003,
          152.59999999999854,
          356.90999999999985,
          194.15999999999985,
          123.81999999999971,
          135.72000000000116,
          181.11000000000058,
          216.2599999999984,
          154.61000000000058,
          86.52999999999884,
          141.97000000000116,
          112.61999999999898,
          102.27000000000044,
          112.89999999999782,
          106.43000000000029,
          121.65999999999985,
          105.83000000000175,
          117.29000000000087,
          93.41999999999825,
          55.090000000000146,
          57.400000000001455,
          98.61000000000058,
          55.159999999999854,
          197.71999999999753,
          95.59000000000015,
          83.20999999999913,
          62.75,
          40,
          51.159999999999854,
          33.04999999999927,
          296.09999999999854
         ],
         "yaxis": "y"
        },
        {
         "hovertemplate": "open_time_hr=5<br>week=%{x}<br>period_range=%{y}<extra></extra>",
         "legendgroup": "5",
         "line": {
          "color": "#19d3f3",
          "dash": "solid"
         },
         "marker": {
          "symbol": "circle"
         },
         "mode": "lines",
         "name": "5",
         "showlegend": true,
         "type": "scattergl",
         "x": [
          1,
          2,
          3,
          4,
          5,
          6,
          7,
          8,
          9,
          10,
          11,
          12,
          13,
          14,
          15,
          16,
          17,
          18,
          19,
          20,
          21,
          22,
          23,
          24,
          25,
          26,
          27,
          28,
          29,
          30,
          31,
          32,
          33,
          34,
          35,
          36,
          37,
          38,
          39,
          40,
          41,
          42,
          43,
          44,
          45,
          46,
          47,
          48,
          49,
          50,
          51,
          52
         ],
         "xaxis": "x",
         "y": [
          382,
          229.3199999999997,
          297.8099999999977,
          270.5599999999977,
          219.77999999999884,
          255.58000000000175,
          229.38000000000466,
          425.3400000000038,
          230.63999999999942,
          377.5400000000009,
          189.90000000000146,
          161.25,
          206.75999999999476,
          201.22999999999593,
          148.38999999999942,
          156.27999999999884,
          210.24000000000524,
          158.9300000000003,
          657.5200000000004,
          170.11999999999898,
          185.47999999999956,
          148.23999999999796,
          215.2400000000016,
          583.0600000000013,
          230.67999999999665,
          125.18999999999869,
          194.41999999999825,
          149.65000000000146,
          286.47000000000116,
          140.97000000000116,
          98.56999999999971,
          96.5,
          111.47999999999956,
          191.11000000000058,
          94.05999999999767,
          111.95999999999913,
          118.52000000000044,
          113.42000000000189,
          148.29000000000087,
          89.75,
          74.70999999999913,
          52.04999999999927,
          73.55000000000291,
          69.59999999999854,
          291.9399999999987,
          89.36000000000058,
          60.64000000000124,
          67.88999999999942,
          37.80000000000291,
          40.38000000000102,
          37.38000000000102,
          257.54999999999563
         ],
         "yaxis": "y"
        },
        {
         "hovertemplate": "open_time_hr=6<br>week=%{x}<br>period_range=%{y}<extra></extra>",
         "legendgroup": "6",
         "line": {
          "color": "#FF6692",
          "dash": "solid"
         },
         "marker": {
          "symbol": "circle"
         },
         "mode": "lines",
         "name": "6",
         "showlegend": true,
         "type": "scattergl",
         "x": [
          1,
          2,
          3,
          4,
          5,
          6,
          7,
          8,
          9,
          10,
          11,
          12,
          13,
          14,
          15,
          16,
          17,
          18,
          19,
          20,
          21,
          22,
          23,
          24,
          25,
          26,
          27,
          28,
          29,
          30,
          31,
          32,
          33,
          34,
          35,
          36,
          37,
          38,
          39,
          40,
          41,
          42,
          43,
          44,
          45,
          46,
          47,
          48,
          49,
          50,
          51,
          52
         ],
         "xaxis": "x",
         "y": [
          267.2300000000032,
          236.9300000000003,
          240.0500000000029,
          315.9099999999962,
          242.9100000000035,
          297.3199999999997,
          235.65000000000146,
          299.3899999999994,
          444.01000000000204,
          227.59999999999854,
          267.1200000000026,
          301.06000000000495,
          233.75,
          197.62999999999738,
          186.2899999999936,
          151.01000000000204,
          199.91999999999825,
          156.87999999999738,
          362.4399999999987,
          337.3000000000029,
          247.14000000000306,
          144.9399999999987,
          158.8199999999997,
          447.26000000000204,
          311.22999999999956,
          158.70999999999913,
          112.63999999999942,
          154.66999999999825,
          217.4300000000003,
          105.93000000000029,
          161.20000000000073,
          126.71000000000276,
          207.6800000000003,
          158.1899999999987,
          108.5099999999984,
          127.63999999999942,
          111.52999999999884,
          108.45999999999913,
          140.47999999999956,
          142.9900000000016,
          58.95999999999913,
          53.659999999999854,
          80.43000000000029,
          81.13999999999942,
          187.88000000000102,
          86.04999999999927,
          93.84999999999854,
          54,
          42.61999999999898,
          38.70999999999913,
          37.830000000001746,
          232.76000000000204
         ],
         "yaxis": "y"
        },
        {
         "hovertemplate": "open_time_hr=7<br>week=%{x}<br>period_range=%{y}<extra></extra>",
         "legendgroup": "7",
         "line": {
          "color": "#B6E880",
          "dash": "solid"
         },
         "marker": {
          "symbol": "circle"
         },
         "mode": "lines",
         "name": "7",
         "showlegend": true,
         "type": "scattergl",
         "x": [
          1,
          2,
          3,
          4,
          5,
          6,
          7,
          8,
          9,
          10,
          11,
          12,
          13,
          14,
          15,
          16,
          17,
          18,
          19,
          20,
          21,
          22,
          23,
          24,
          25,
          26,
          27,
          28,
          29,
          30,
          31,
          32,
          33,
          34,
          35,
          36,
          37,
          38,
          39,
          40,
          41,
          42,
          43,
          44,
          45,
          46,
          47,
          48,
          49,
          50,
          51,
          52
         ],
         "xaxis": "x",
         "y": [
          227.62000000000262,
          212.42000000000553,
          536.8499999999985,
          321.3199999999997,
          188.45999999999913,
          275.1399999999994,
          249.73999999999796,
          289.8899999999994,
          273.6599999999962,
          315.9400000000023,
          322.5,
          226.27999999999884,
          225.04000000000087,
          179.72999999999593,
          203.09999999999854,
          277.2299999999959,
          277.01000000000204,
          215.11000000000058,
          358.8799999999974,
          246,
          159.61000000000058,
          168.27999999999884,
          170.33000000000175,
          533.2000000000007,
          282.82000000000335,
          157.79000000000087,
          150.02999999999884,
          221.29999999999927,
          298.119999999999,
          145,
          122.61999999999898,
          153.6899999999987,
          185.0799999999981,
          145.38000000000102,
          121.61000000000058,
          177.33000000000175,
          183.47999999999956,
          158.33000000000175,
          142.88999999999942,
          92.31999999999971,
          84.56000000000131,
          73.2400000000016,
          109.79999999999927,
          83.54999999999927,
          238.1899999999987,
          85.33000000000175,
          104.27999999999884,
          58.780000000002474,
          41.13000000000102,
          55.54000000000087,
          48.02000000000044,
          212.37999999999738
         ],
         "yaxis": "y"
        },
        {
         "hovertemplate": "open_time_hr=8<br>week=%{x}<br>period_range=%{y}<extra></extra>",
         "legendgroup": "8",
         "line": {
          "color": "#FF97FF",
          "dash": "solid"
         },
         "marker": {
          "symbol": "circle"
         },
         "mode": "lines",
         "name": "8",
         "showlegend": true,
         "type": "scattergl",
         "x": [
          1,
          2,
          3,
          4,
          5,
          6,
          7,
          8,
          9,
          10,
          11,
          12,
          13,
          14,
          15,
          16,
          17,
          18,
          19,
          20,
          21,
          22,
          23,
          24,
          25,
          26,
          27,
          28,
          29,
          30,
          31,
          32,
          33,
          34,
          35,
          36,
          37,
          38,
          39,
          40,
          41,
          42,
          43,
          44,
          45,
          46,
          47,
          48,
          49,
          50,
          51,
          52
         ],
         "xaxis": "x",
         "y": [
          334.66999999999825,
          245.01000000000204,
          298.5500000000029,
          452.59999999999854,
          197.97000000000116,
          281.59999999999854,
          414.6999999999971,
          419.47000000000116,
          405.8400000000038,
          488.6399999999994,
          222.65000000000146,
          263.3899999999994,
          283.8099999999977,
          175.97000000000116,
          195.02999999999884,
          213.40000000000146,
          239.54000000000087,
          214.54999999999563,
          475.9399999999987,
          258,
          249.52000000000044,
          135.61000000000058,
          193.35000000000218,
          447.39000000000306,
          205.13999999999942,
          225.25,
          169.41999999999825,
          153.6700000000019,
          240.44000000000233,
          157.61999999999898,
          158.61000000000058,
          210.4399999999987,
          139.5699999999997,
          140.0699999999997,
          122.52000000000044,
          106.68999999999869,
          149.13999999999942,
          136.95000000000073,
          99.29000000000087,
          106.70000000000073,
          80.03000000000247,
          61.340000000000146,
          170.2599999999984,
          97.95000000000073,
          189.86999999999898,
          153.11999999999898,
          75.98999999999978,
          73.95000000000073,
          33.109999999996944,
          47,
          55.70000000000073,
          269.58000000000175
         ],
         "yaxis": "y"
        },
        {
         "hovertemplate": "open_time_hr=9<br>week=%{x}<br>period_range=%{y}<extra></extra>",
         "legendgroup": "9",
         "line": {
          "color": "#FECB52",
          "dash": "solid"
         },
         "marker": {
          "symbol": "circle"
         },
         "mode": "lines",
         "name": "9",
         "showlegend": true,
         "type": "scattergl",
         "x": [
          1,
          2,
          3,
          4,
          5,
          6,
          7,
          8,
          9,
          10,
          11,
          12,
          13,
          14,
          15,
          16,
          17,
          18,
          19,
          20,
          21,
          22,
          23,
          24,
          25,
          26,
          27,
          28,
          29,
          30,
          31,
          32,
          33,
          34,
          35,
          36,
          37,
          38,
          39,
          40,
          41,
          42,
          43,
          44,
          45,
          46,
          47,
          48,
          49,
          50,
          51,
          52
         ],
         "xaxis": "x",
         "y": [
          331.25,
          238.63999999999942,
          347.72000000000116,
          412.09999999999854,
          240.38999999999942,
          402.3700000000026,
          269.47000000000116,
          383.5900000000038,
          404.1399999999994,
          282.98999999999796,
          303.72000000000116,
          262.22000000000116,
          233.75,
          188.23999999999796,
          182.88999999999942,
          191.88999999999942,
          248.11999999999534,
          185.58000000000175,
          434.0499999999993,
          263.4300000000003,
          200.97000000000116,
          148.22999999999956,
          202.59000000000015,
          410.6399999999994,
          297.5,
          190.3199999999997,
          164,
          161.39000000000306,
          176.61000000000058,
          127.54000000000087,
          113.7599999999984,
          172.27000000000044,
          144.47000000000116,
          90.9900000000016,
          94.70999999999913,
          98.09000000000015,
          136.61000000000058,
          156.5600000000013,
          139.47000000000116,
          75.32000000000335,
          68.36000000000058,
          90.93000000000029,
          95.54000000000087,
          90.18000000000029,
          130.61999999999898,
          111.31999999999971,
          66.06999999999971,
          46.919999999998254,
          53.340000000000146,
          87.34000000000015,
          36.789999999997235,
          281.9799999999959
         ],
         "yaxis": "y"
        },
        {
         "hovertemplate": "open_time_hr=10<br>week=%{x}<br>period_range=%{y}<extra></extra>",
         "legendgroup": "10",
         "line": {
          "color": "#636efa",
          "dash": "solid"
         },
         "marker": {
          "symbol": "circle"
         },
         "mode": "lines",
         "name": "10",
         "showlegend": true,
         "type": "scattergl",
         "x": [
          1,
          2,
          3,
          4,
          5,
          6,
          7,
          8,
          9,
          10,
          11,
          12,
          13,
          14,
          15,
          16,
          17,
          18,
          19,
          20,
          21,
          22,
          23,
          24,
          25,
          26,
          27,
          28,
          29,
          30,
          31,
          32,
          33,
          34,
          35,
          36,
          37,
          38,
          39,
          40,
          41,
          42,
          43,
          44,
          45,
          46,
          47,
          48,
          49,
          50,
          51,
          52
         ],
         "xaxis": "x",
         "y": [
          372.2099999999991,
          281.81000000000495,
          326.5199999999968,
          360.1900000000023,
          250.5899999999965,
          368.68999999999505,
          252.12999999999738,
          485.7900000000009,
          424.5400000000009,
          263.0400000000009,
          212.08000000000175,
          178.00999999999476,
          175.7699999999968,
          157.9800000000032,
          283.3099999999977,
          217.86999999999534,
          190.61000000000058,
          212.27000000000407,
          420.6899999999987,
          209.20000000000073,
          146.0799999999981,
          179.95000000000073,
          198.5,
          482.619999999999,
          192.86000000000058,
          122.11999999999898,
          135.3199999999997,
          120.59999999999854,
          230.12999999999738,
          144.47999999999956,
          136.8100000000013,
          149.15999999999985,
          140.11000000000058,
          110.15999999999985,
          115.36000000000058,
          132.6800000000003,
          107.17000000000189,
          165.52000000000044,
          120.20000000000073,
          83.77999999999884,
          79,
          80.36999999999898,
          115.36000000000058,
          80.7599999999984,
          170.3199999999997,
          98.45999999999913,
          113.89999999999782,
          33.029999999998836,
          45.63000000000102,
          52.10000000000218,
          37.18999999999869,
          208.0399999999936
         ],
         "yaxis": "y"
        },
        {
         "hovertemplate": "open_time_hr=11<br>week=%{x}<br>period_range=%{y}<extra></extra>",
         "legendgroup": "11",
         "line": {
          "color": "#EF553B",
          "dash": "solid"
         },
         "marker": {
          "symbol": "circle"
         },
         "mode": "lines",
         "name": "11",
         "showlegend": true,
         "type": "scattergl",
         "x": [
          1,
          2,
          3,
          4,
          5,
          6,
          7,
          8,
          9,
          10,
          11,
          12,
          13,
          14,
          15,
          16,
          17,
          18,
          19,
          20,
          21,
          22,
          23,
          24,
          25,
          26,
          27,
          28,
          29,
          30,
          31,
          32,
          33,
          34,
          35,
          36,
          37,
          38,
          39,
          40,
          41,
          42,
          43,
          44,
          45,
          46,
          47,
          48,
          49,
          50,
          51,
          52
         ],
         "xaxis": "x",
         "y": [
          296.9300000000003,
          330.6800000000003,
          298.38000000000466,
          372.92000000000553,
          251.38999999999942,
          354.91999999999825,
          235.48999999999796,
          390.83000000000175,
          303.3000000000029,
          388,
          228.5500000000029,
          268.4599999999991,
          260.34999999999854,
          278.09999999999854,
          263.01000000000204,
          184.00999999999476,
          327.7900000000009,
          180.66999999999825,
          543.9000000000015,
          283.369999999999,
          244.47999999999956,
          180.0699999999997,
          201.51000000000204,
          576.7000000000007,
          285.08000000000175,
          175.62000000000262,
          205.71999999999753,
          173.52999999999884,
          321,
          222.45000000000073,
          137.08000000000175,
          214.7599999999984,
          156.45000000000073,
          139.47999999999956,
          109.18999999999869,
          101.34000000000015,
          115.45000000000073,
          143.8000000000029,
          186.35000000000218,
          97.9900000000016,
          87.93000000000029,
          71.13000000000102,
          102.93999999999869,
          107.45000000000073,
          165.6899999999987,
          125.09000000000015,
          75.93999999999869,
          65.37000000000262,
          47.98999999999796,
          64.02999999999884,
          34.080000000001746,
          240.4300000000003
         ],
         "yaxis": "y"
        },
        {
         "hovertemplate": "open_time_hr=12<br>week=%{x}<br>period_range=%{y}<extra></extra>",
         "legendgroup": "12",
         "line": {
          "color": "#00cc96",
          "dash": "solid"
         },
         "marker": {
          "symbol": "circle"
         },
         "mode": "lines",
         "name": "12",
         "showlegend": true,
         "type": "scattergl",
         "x": [
          1,
          2,
          3,
          4,
          5,
          6,
          7,
          8,
          9,
          10,
          11,
          12,
          13,
          14,
          15,
          16,
          17,
          18,
          19,
          20,
          21,
          22,
          23,
          24,
          25,
          26,
          27,
          28,
          29,
          30,
          31,
          32,
          33,
          34,
          35,
          36,
          37,
          38,
          39,
          40,
          41,
          42,
          43,
          44,
          45,
          46,
          47,
          48,
          49,
          50,
          51,
          52
         ],
         "xaxis": "x",
         "y": [
          289.76000000000204,
          427.48999999999796,
          364.1400000000067,
          360.8099999999977,
          304.6100000000006,
          447.47000000000116,
          288.6999999999971,
          426.8000000000029,
          481.3799999999974,
          428.1100000000006,
          352.7900000000009,
          339.15000000000146,
          285.4599999999991,
          338.9099999999962,
          286.5200000000041,
          256.63000000000466,
          276.68999999999505,
          243.01000000000204,
          386,
          360,
          285.4300000000003,
          255.6899999999987,
          339.21000000000276,
          588.2099999999991,
          370.9900000000016,
          211.95000000000073,
          186.45000000000073,
          201.36999999999898,
          307.8600000000006,
          264.6399999999994,
          235.59999999999854,
          177,
          201.13999999999942,
          169.9900000000016,
          208.90999999999985,
          153.15000000000146,
          200.9200000000019,
          168.34000000000015,
          187.4399999999987,
          91.52999999999884,
          133.09000000000015,
          99.9900000000016,
          133.04000000000087,
          103.93000000000029,
          108.45999999999913,
          124.22000000000116,
          95.93000000000029,
          56.330000000001746,
          46.06000000000131,
          65.92000000000189,
          37.06000000000131,
          394.1800000000003
         ],
         "yaxis": "y"
        },
        {
         "hovertemplate": "open_time_hr=13<br>week=%{x}<br>period_range=%{y}<extra></extra>",
         "legendgroup": "13",
         "line": {
          "color": "#ab63fa",
          "dash": "solid"
         },
         "marker": {
          "symbol": "circle"
         },
         "mode": "lines",
         "name": "13",
         "showlegend": true,
         "type": "scattergl",
         "x": [
          1,
          2,
          3,
          4,
          5,
          6,
          7,
          8,
          9,
          10,
          11,
          12,
          13,
          14,
          15,
          16,
          17,
          18,
          19,
          20,
          21,
          22,
          23,
          24,
          25,
          26,
          27,
          28,
          29,
          30,
          31,
          32,
          33,
          34,
          35,
          36,
          37,
          38,
          39,
          40,
          41,
          42,
          43,
          44,
          45,
          46,
          47,
          48,
          49,
          50,
          51,
          52
         ],
         "xaxis": "x",
         "y": [
          424.52999999999884,
          332.2699999999968,
          442.8399999999965,
          453.0699999999997,
          436.4099999999962,
          322.98999999999796,
          346.48999999999796,
          486.3700000000026,
          532.9599999999991,
          478.6299999999974,
          348.97000000000116,
          349.8099999999977,
          397.59999999999854,
          370.1399999999994,
          472.49000000000524,
          387.67000000000553,
          556.0800000000017,
          405.51000000000204,
          690.75,
          359.77999999999884,
          372.0500000000029,
          302.90999999999985,
          314.89000000000306,
          462.9900000000016,
          288.66999999999825,
          259.98999999999796,
          231.86999999999898,
          274.77999999999884,
          251.5,
          279.23999999999796,
          187.4300000000003,
          204.44000000000233,
          172.34000000000015,
          169.6700000000019,
          200.88000000000102,
          181.15000000000146,
          190.10999999999694,
          331.91999999999825,
          213.34999999999854,
          205,
          146.08000000000175,
          152.63000000000102,
          199.2699999999968,
          124.14999999999782,
          227.34000000000015,
          150.38000000000102,
          75.01000000000204,
          108.11000000000058,
          67.11999999999898,
          99.56999999999971,
          47.5,
          210.86000000000058
         ],
         "yaxis": "y"
        },
        {
         "hovertemplate": "open_time_hr=14<br>week=%{x}<br>period_range=%{y}<extra></extra>",
         "legendgroup": "14",
         "line": {
          "color": "#FFA15A",
          "dash": "solid"
         },
         "marker": {
          "symbol": "circle"
         },
         "mode": "lines",
         "name": "14",
         "showlegend": true,
         "type": "scattergl",
         "x": [
          1,
          2,
          3,
          4,
          5,
          6,
          7,
          8,
          9,
          10,
          11,
          12,
          13,
          14,
          15,
          16,
          17,
          18,
          19,
          20,
          21,
          22,
          23,
          24,
          25,
          26,
          27,
          28,
          29,
          30,
          31,
          32,
          33,
          34,
          35,
          36,
          37,
          38,
          39,
          40,
          41,
          42,
          43,
          44,
          45,
          46,
          47,
          48,
          49,
          50,
          51,
          52
         ],
         "xaxis": "x",
         "y": [
          520.3899999999994,
          579.8399999999965,
          668.1299999999974,
          519.010000000002,
          729.9500000000044,
          576.310000000005,
          374.66999999999825,
          549.3600000000006,
          946.2799999999988,
          458.65000000000146,
          399.98999999999796,
          431.01000000000204,
          363,
          490.7300000000032,
          504.52999999999884,
          292.6399999999994,
          522.0200000000041,
          306.8599999999933,
          648.2799999999988,
          395.3199999999997,
          377.9300000000003,
          485.2599999999984,
          458.25,
          423.8299999999981,
          260,
          245.36000000000058,
          219.52000000000044,
          203.45000000000073,
          348.0699999999997,
          249.54999999999927,
          300.08000000000175,
          168.5600000000013,
          154.27000000000044,
          195.2400000000016,
          253.20999999999913,
          159.9800000000032,
          242.08000000000175,
          223.83000000000175,
          162.2400000000016,
          214,
          109.68000000000029,
          179.1899999999987,
          199.5600000000013,
          152.87999999999738,
          343.880000000001,
          133.34000000000015,
          133.95000000000073,
          116.11999999999898,
          67.30999999999767,
          119.67000000000189,
          111.9900000000016,
          182.38999999999942
         ],
         "yaxis": "y"
        },
        {
         "hovertemplate": "open_time_hr=15<br>week=%{x}<br>period_range=%{y}<extra></extra>",
         "legendgroup": "15",
         "line": {
          "color": "#19d3f3",
          "dash": "solid"
         },
         "marker": {
          "symbol": "circle"
         },
         "mode": "lines",
         "name": "15",
         "showlegend": true,
         "type": "scattergl",
         "x": [
          1,
          2,
          3,
          4,
          5,
          6,
          7,
          8,
          9,
          10,
          11,
          12,
          13,
          14,
          15,
          16,
          17,
          18,
          19,
          20,
          21,
          22,
          23,
          24,
          25,
          26,
          27,
          28,
          29,
          30,
          31,
          32,
          33,
          34,
          35,
          36,
          37,
          38,
          39,
          40,
          41,
          42,
          43,
          44,
          45,
          46,
          47,
          48,
          49,
          50,
          51,
          52
         ],
         "xaxis": "x",
         "y": [
          453.5300000000061,
          574.5,
          519.0899999999965,
          549.0599999999977,
          483.4400000000023,
          403.9599999999991,
          246.55999999999767,
          653.760000000002,
          723,
          487.25,
          337.41999999999825,
          410.2199999999939,
          487.0500000000029,
          374.75999999999476,
          429.98999999999796,
          388.1900000000023,
          505.9499999999971,
          295.6600000000035,
          614.9399999999987,
          367.9300000000003,
          247.47999999999956,
          236.71999999999753,
          352.8600000000006,
          367,
          306.9599999999991,
          166.54999999999927,
          204.9900000000016,
          154.59999999999854,
          236.52000000000044,
          200.45000000000073,
          187.35000000000218,
          161.88000000000102,
          135.52000000000044,
          198.61000000000058,
          133.03000000000247,
          118.40000000000146,
          182.09000000000015,
          232.52000000000044,
          167.64000000000306,
          130.94000000000233,
          92.43000000000029,
          153.29999999999927,
          128.75,
          88.42999999999665,
          301,
          184.23999999999796,
          93,
          87.27999999999884,
          64.39999999999782,
          96.68000000000029,
          103.31000000000131,
          318.7300000000032
         ],
         "yaxis": "y"
        },
        {
         "hovertemplate": "open_time_hr=16<br>week=%{x}<br>period_range=%{y}<extra></extra>",
         "legendgroup": "16",
         "line": {
          "color": "#FF6692",
          "dash": "solid"
         },
         "marker": {
          "symbol": "circle"
         },
         "mode": "lines",
         "name": "16",
         "showlegend": true,
         "type": "scattergl",
         "x": [
          1,
          2,
          3,
          4,
          5,
          6,
          7,
          8,
          9,
          10,
          11,
          12,
          13,
          14,
          15,
          16,
          17,
          18,
          19,
          20,
          21,
          22,
          23,
          24,
          25,
          26,
          27,
          28,
          29,
          30,
          31,
          32,
          33,
          34,
          35,
          36,
          37,
          38,
          39,
          40,
          41,
          42,
          43,
          44,
          45,
          46,
          47,
          48,
          49,
          50,
          51,
          52
         ],
         "xaxis": "x",
         "y": [
          502.4499999999971,
          376.8899999999994,
          416.41999999999825,
          383.98999999999796,
          624.8099999999977,
          592.0899999999965,
          390.59999999999854,
          414.27999999999884,
          543.0799999999945,
          427.77999999999884,
          325.2099999999991,
          296.0400000000009,
          325.9400000000023,
          319.0699999999997,
          347.4300000000003,
          369.1200000000026,
          544.4000000000015,
          346.0500000000029,
          925.2800000000025,
          369.72000000000116,
          277.4399999999987,
          223.8199999999997,
          338.72000000000116,
          432.0099999999984,
          194.61999999999898,
          188.34000000000015,
          235.53000000000247,
          213.61999999999898,
          491.1700000000019,
          216.59000000000015,
          217.65999999999985,
          162.13000000000102,
          171.25,
          190.20000000000073,
          202.91999999999825,
          170.02999999999884,
          229.69000000000233,
          197.15000000000146,
          199.59000000000015,
          162.22000000000116,
          100.52000000000044,
          109.29000000000087,
          122.70000000000073,
          144.9200000000019,
          390.5499999999993,
          152.72000000000116,
          136.5600000000013,
          80.59999999999854,
          55.92000000000189,
          102.89000000000306,
          50.11999999999898,
          341.16999999999825
         ],
         "yaxis": "y"
        },
        {
         "hovertemplate": "open_time_hr=17<br>week=%{x}<br>period_range=%{y}<extra></extra>",
         "legendgroup": "17",
         "line": {
          "color": "#B6E880",
          "dash": "solid"
         },
         "marker": {
          "symbol": "circle"
         },
         "mode": "lines",
         "name": "17",
         "showlegend": true,
         "type": "scattergl",
         "x": [
          1,
          2,
          3,
          4,
          5,
          6,
          7,
          8,
          9,
          10,
          11,
          12,
          13,
          14,
          15,
          16,
          17,
          18,
          19,
          20,
          21,
          22,
          23,
          24,
          25,
          26,
          27,
          28,
          29,
          30,
          31,
          32,
          33,
          34,
          35,
          36,
          37,
          38,
          39,
          40,
          41,
          42,
          43,
          44,
          45,
          46,
          47,
          48,
          49,
          50,
          51,
          52
         ],
         "xaxis": "x",
         "y": [
          417.8000000000029,
          403.8199999999997,
          321.9400000000023,
          418.98999999999796,
          377.51000000000204,
          349.76000000000204,
          295.38000000000466,
          451.3899999999994,
          512.0699999999997,
          303.77999999999884,
          295.77999999999884,
          313.51000000000204,
          342.25999999999476,
          525.7200000000012,
          287.01000000000204,
          240.31000000000495,
          268.9799999999959,
          392.4300000000003,
          738,
          292.40999999999985,
          243.2400000000016,
          240.84000000000015,
          242.08000000000175,
          445,
          238.1800000000003,
          133.03000000000247,
          244.20999999999913,
          372.02999999999884,
          349.9900000000016,
          182.5699999999997,
          273.8799999999974,
          138.77999999999884,
          155.8199999999997,
          145.59000000000015,
          141.9499999999971,
          143.73999999999796,
          157.53000000000247,
          219.02999999999884,
          218.90000000000146,
          168.38000000000102,
          59.23999999999796,
          85.52000000000044,
          108.5,
          80.21999999999753,
          213.61000000000058,
          102.82999999999811,
          72.75,
          68.71999999999935,
          41.04000000000087,
          68.06999999999971,
          49.97999999999956,
          672.5400000000009
         ],
         "yaxis": "y"
        },
        {
         "hovertemplate": "open_time_hr=18<br>week=%{x}<br>period_range=%{y}<extra></extra>",
         "legendgroup": "18",
         "line": {
          "color": "#FF97FF",
          "dash": "solid"
         },
         "marker": {
          "symbol": "circle"
         },
         "mode": "lines",
         "name": "18",
         "showlegend": true,
         "type": "scattergl",
         "x": [
          1,
          2,
          3,
          4,
          5,
          6,
          7,
          8,
          9,
          10,
          11,
          12,
          13,
          14,
          15,
          16,
          17,
          18,
          19,
          20,
          21,
          22,
          23,
          24,
          25,
          26,
          27,
          28,
          29,
          30,
          31,
          32,
          33,
          34,
          35,
          36,
          37,
          38,
          39,
          40,
          41,
          42,
          43,
          44,
          45,
          46,
          47,
          48,
          49,
          50,
          51,
          52
         ],
         "xaxis": "x",
         "y": [
          480,
          334.58000000000175,
          476.26000000000204,
          351.2899999999936,
          247.83000000000175,
          528.75,
          385.3600000000006,
          441.6800000000003,
          388.83000000000175,
          262.83000000000175,
          298.33000000000175,
          173.79000000000087,
          418.6100000000006,
          305.9799999999959,
          326.6900000000023,
          291.3700000000026,
          337.34999999999854,
          481.51000000000204,
          516.0999999999985,
          279.869999999999,
          207.09000000000015,
          112.65000000000146,
          264.3899999999994,
          447.2599999999984,
          180.51000000000204,
          154.01000000000204,
          225.1800000000003,
          188.2400000000016,
          209.13999999999942,
          295.76000000000204,
          146.8199999999997,
          199.47999999999956,
          145.80999999999767,
          107.20000000000073,
          137.8100000000013,
          176.51000000000204,
          157.39999999999782,
          248.83000000000175,
          226.19000000000233,
          108.81999999999971,
          145.8100000000013,
          105.15999999999985,
          84.95000000000073,
          90.61000000000058,
          243.02000000000044,
          79.90999999999985,
          68.0099999999984,
          81.80000000000109,
          56.330000000001746,
          84.95000000000073,
          57.86000000000058,
          424.97000000000116
         ],
         "yaxis": "y"
        },
        {
         "hovertemplate": "open_time_hr=19<br>week=%{x}<br>period_range=%{y}<extra></extra>",
         "legendgroup": "19",
         "line": {
          "color": "#FECB52",
          "dash": "solid"
         },
         "marker": {
          "symbol": "circle"
         },
         "mode": "lines",
         "name": "19",
         "showlegend": true,
         "type": "scattergl",
         "x": [
          1,
          2,
          3,
          4,
          5,
          6,
          7,
          8,
          9,
          10,
          11,
          12,
          13,
          14,
          15,
          16,
          17,
          18,
          19,
          20,
          21,
          22,
          23,
          24,
          25,
          26,
          27,
          28,
          29,
          30,
          31,
          32,
          33,
          34,
          35,
          36,
          37,
          38,
          39,
          40,
          41,
          42,
          43,
          44,
          45,
          46,
          47,
          48,
          49,
          50,
          51,
          52
         ],
         "xaxis": "x",
         "y": [
          580,
          361.8099999999977,
          432.82999999999447,
          473.0599999999977,
          272.5899999999965,
          540.6999999999971,
          290,
          554.0800000000017,
          384,
          365.52999999999884,
          266.8399999999965,
          282.5899999999965,
          373.4499999999971,
          432.9099999999962,
          362.8099999999977,
          325.34999999999854,
          316.1100000000006,
          310.1600000000035,
          494.6100000000006,
          353.1899999999987,
          309.09999999999854,
          214.1700000000019,
          232.77000000000044,
          309.82000000000335,
          313.72999999999956,
          196.1800000000003,
          212.79000000000087,
          244.04000000000087,
          359.8299999999981,
          282.52000000000044,
          168.66999999999825,
          148.0600000000013,
          193,
          117.31999999999971,
          165.72999999999956,
          172.7400000000016,
          145.4300000000003,
          209.39999999999782,
          191.27999999999884,
          185.22999999999956,
          121.34000000000015,
          85.38000000000102,
          95.04999999999927,
          69.90999999999985,
          221.12999999999738,
          110.59000000000015,
          76.97999999999956,
          64.16999999999825,
          61.86999999999898,
          82.39000000000306,
          63.220000000001164,
          319.11999999999534
         ],
         "yaxis": "y"
        },
        {
         "hovertemplate": "open_time_hr=20<br>week=%{x}<br>period_range=%{y}<extra></extra>",
         "legendgroup": "20",
         "line": {
          "color": "#636efa",
          "dash": "solid"
         },
         "marker": {
          "symbol": "circle"
         },
         "mode": "lines",
         "name": "20",
         "showlegend": true,
         "type": "scattergl",
         "x": [
          1,
          2,
          3,
          4,
          5,
          6,
          7,
          8,
          9,
          10,
          11,
          12,
          13,
          14,
          15,
          16,
          17,
          18,
          19,
          20,
          21,
          22,
          23,
          24,
          25,
          26,
          27,
          28,
          29,
          30,
          31,
          32,
          33,
          34,
          35,
          36,
          37,
          38,
          39,
          40,
          41,
          42,
          43,
          44,
          45,
          46,
          47,
          48,
          49,
          50,
          51,
          52
         ],
         "xaxis": "x",
         "y": [
          469.7300000000032,
          366.8000000000029,
          425.41999999999825,
          833.7900000000009,
          326.6800000000003,
          646.1600000000035,
          301.02999999999884,
          504.6399999999994,
          418.4499999999971,
          463.4599999999991,
          485.7099999999991,
          287.84999999999854,
          270.97000000000116,
          315.76000000000204,
          247.54000000000087,
          259.2300000000032,
          438.3899999999994,
          309.75,
          482.47999999999956,
          233.95000000000073,
          243.77000000000044,
          183.45999999999913,
          245.26000000000204,
          546.380000000001,
          321.380000000001,
          232.7400000000016,
          194.37000000000262,
          177.0600000000013,
          229.90000000000146,
          246.47000000000116,
          153.59999999999854,
          195.59000000000015,
          218.52999999999884,
          111.40999999999985,
          123.38999999999942,
          224.03000000000247,
          105.80999999999767,
          139.4900000000016,
          135.34000000000015,
          97.71999999999753,
          74.52000000000044,
          92.41999999999825,
          132.29999999999927,
          59.01000000000204,
          312.3999999999978,
          92.5,
          65.06999999999971,
          59.82999999999993,
          52.31000000000131,
          76.27000000000044,
          64.84999999999854,
          234.83000000000175
         ],
         "yaxis": "y"
        },
        {
         "hovertemplate": "open_time_hr=21<br>week=%{x}<br>period_range=%{y}<extra></extra>",
         "legendgroup": "21",
         "line": {
          "color": "#EF553B",
          "dash": "solid"
         },
         "marker": {
          "symbol": "circle"
         },
         "mode": "lines",
         "name": "21",
         "showlegend": true,
         "type": "scattergl",
         "x": [
          1,
          2,
          3,
          4,
          5,
          6,
          7,
          8,
          9,
          10,
          11,
          12,
          13,
          14,
          15,
          16,
          17,
          18,
          19,
          20,
          21,
          22,
          23,
          24,
          25,
          26,
          27,
          28,
          29,
          30,
          31,
          32,
          33,
          34,
          35,
          36,
          37,
          38,
          39,
          40,
          41,
          42,
          43,
          44,
          45,
          46,
          47,
          48,
          49,
          50,
          51,
          52
         ],
         "xaxis": "x",
         "y": [
          296.1399999999994,
          352.09999999999854,
          650.4799999999959,
          484.31000000000495,
          216.29999999999563,
          479.0699999999997,
          271.5,
          411.48999999999796,
          417.4599999999991,
          261.6900000000023,
          319.99000000000524,
          276.58000000000175,
          384.6399999999994,
          388.3000000000029,
          256.98999999999796,
          191.72999999999593,
          226.47000000000116,
          271.1999999999971,
          622.380000000001,
          249.20999999999913,
          142.45999999999913,
          181,
          230.36000000000058,
          528.4500000000007,
          233.47999999999956,
          160.26000000000204,
          217,
          259.5500000000029,
          213.61999999999898,
          291.91999999999825,
          139.97999999999956,
          161.0600000000013,
          167.75,
          115.37999999999738,
          103.34000000000015,
          190.60000000000218,
          176.63000000000102,
          223.3199999999997,
          135.90999999999985,
          119.21000000000276,
          60.86000000000058,
          55.70000000000073,
          89.4900000000016,
          65.94000000000233,
          330.7000000000007,
          83.94000000000233,
          54.04999999999927,
          76.77000000000044,
          48.0099999999984,
          80.9900000000016,
          55.04000000000087,
          274.7100000000064
         ],
         "yaxis": "y"
        },
        {
         "hovertemplate": "open_time_hr=22<br>week=%{x}<br>period_range=%{y}<extra></extra>",
         "legendgroup": "22",
         "line": {
          "color": "#00cc96",
          "dash": "solid"
         },
         "marker": {
          "symbol": "circle"
         },
         "mode": "lines",
         "name": "22",
         "showlegend": true,
         "type": "scattergl",
         "x": [
          1,
          2,
          3,
          4,
          5,
          6,
          7,
          8,
          9,
          10,
          11,
          12,
          13,
          14,
          15,
          16,
          17,
          18,
          19,
          20,
          21,
          22,
          23,
          24,
          25,
          26,
          27,
          28,
          29,
          30,
          31,
          32,
          33,
          34,
          35,
          36,
          37,
          38,
          39,
          40,
          41,
          42,
          43,
          44,
          45,
          46,
          47,
          48,
          49,
          50,
          51,
          52
         ],
         "xaxis": "x",
         "y": [
          478.38000000000466,
          275.2900000000009,
          667.1399999999994,
          358.4300000000003,
          284.1400000000067,
          402,
          350.8600000000006,
          611.6399999999994,
          510,
          327.9300000000003,
          351.2700000000041,
          250,
          280.5400000000009,
          380.5599999999977,
          307.0500000000029,
          239.9300000000003,
          278.59999999999854,
          283.1100000000006,
          694.119999999999,
          245.91999999999825,
          180.36000000000058,
          211.10999999999694,
          173.90999999999985,
          502.9500000000007,
          262.6700000000019,
          174.34999999999854,
          187.61000000000058,
          189.76000000000204,
          304.27999999999884,
          312.27999999999884,
          175.39999999999782,
          183.59000000000015,
          180.90999999999985,
          157.25,
          113.54999999999927,
          119.38000000000102,
          146.76000000000204,
          267.65999999999985,
          159.70000000000073,
          97.97000000000116,
          79.41999999999825,
          94.27000000000044,
          180.79000000000087,
          113.13999999999942,
          215.21000000000276,
          99.72000000000116,
          96.79999999999927,
          68.86000000000058,
          45,
          87.63999999999942,
          46.7300000000032,
          268.76000000000204
         ],
         "yaxis": "y"
        },
        {
         "hovertemplate": "open_time_hr=23<br>week=%{x}<br>period_range=%{y}<extra></extra>",
         "legendgroup": "23",
         "line": {
          "color": "#ab63fa",
          "dash": "solid"
         },
         "marker": {
          "symbol": "circle"
         },
         "mode": "lines",
         "name": "23",
         "showlegend": true,
         "type": "scattergl",
         "x": [
          1,
          2,
          3,
          4,
          5,
          6,
          7,
          8,
          9,
          10,
          11,
          12,
          13,
          14,
          15,
          16,
          17,
          18,
          19,
          20,
          21,
          22,
          23,
          24,
          25,
          26,
          27,
          28,
          29,
          30,
          31,
          32,
          33,
          34,
          35,
          36,
          37,
          38,
          39,
          40,
          41,
          42,
          43,
          44,
          45,
          46,
          47,
          48,
          49,
          50,
          51,
          52
         ],
         "xaxis": "x",
         "y": [
          399.8600000000006,
          271.9400000000023,
          377,
          411.79999999999563,
          335.9800000000032,
          388.0400000000009,
          314.4599999999991,
          529.9499999999971,
          408.8600000000006,
          318.2099999999991,
          315.3799999999974,
          215.86000000000058,
          391.79999999999563,
          343.4599999999991,
          264.9599999999991,
          197,
          327.34999999999854,
          288.5599999999977,
          500.9599999999991,
          239.40000000000146,
          263.75,
          166.20999999999913,
          181.27999999999884,
          301.2999999999993,
          227.8199999999997,
          166.14999999999782,
          183.69000000000233,
          186.4399999999987,
          245.86000000000058,
          238.61000000000058,
          207.38000000000102,
          135,
          146.08000000000175,
          171.39000000000306,
          183.02999999999884,
          137.86999999999898,
          124.25,
          172.90999999999985,
          133.32000000000335,
          88.22999999999956,
          80.22999999999956,
          69.40999999999985,
          89.2400000000016,
          73.72000000000116,
          275.8899999999994,
          99.05000000000291,
          83.53999999999724,
          57.81999999999971,
          58.29999999999927,
          88.20000000000073,
          45.56999999999971,
          213.95999999999913
         ],
         "yaxis": "y"
        }
       ],
       "layout": {
        "legend": {
         "title": {
          "text": "open_time_hr"
         },
         "tracegroupgap": 0
        },
        "margin": {
         "t": 60
        },
        "template": {
         "data": {
          "bar": [
           {
            "error_x": {
             "color": "#2a3f5f"
            },
            "error_y": {
             "color": "#2a3f5f"
            },
            "marker": {
             "line": {
              "color": "white",
              "width": 0.5
             },
             "pattern": {
              "fillmode": "overlay",
              "size": 10,
              "solidity": 0.2
             }
            },
            "type": "bar"
           }
          ],
          "barpolar": [
           {
            "marker": {
             "line": {
              "color": "white",
              "width": 0.5
             },
             "pattern": {
              "fillmode": "overlay",
              "size": 10,
              "solidity": 0.2
             }
            },
            "type": "barpolar"
           }
          ],
          "carpet": [
           {
            "aaxis": {
             "endlinecolor": "#2a3f5f",
             "gridcolor": "#C8D4E3",
             "linecolor": "#C8D4E3",
             "minorgridcolor": "#C8D4E3",
             "startlinecolor": "#2a3f5f"
            },
            "baxis": {
             "endlinecolor": "#2a3f5f",
             "gridcolor": "#C8D4E3",
             "linecolor": "#C8D4E3",
             "minorgridcolor": "#C8D4E3",
             "startlinecolor": "#2a3f5f"
            },
            "type": "carpet"
           }
          ],
          "choropleth": [
           {
            "colorbar": {
             "outlinewidth": 0,
             "ticks": ""
            },
            "type": "choropleth"
           }
          ],
          "contour": [
           {
            "colorbar": {
             "outlinewidth": 0,
             "ticks": ""
            },
            "colorscale": [
             [
              0,
              "#0d0887"
             ],
             [
              0.1111111111111111,
              "#46039f"
             ],
             [
              0.2222222222222222,
              "#7201a8"
             ],
             [
              0.3333333333333333,
              "#9c179e"
             ],
             [
              0.4444444444444444,
              "#bd3786"
             ],
             [
              0.5555555555555556,
              "#d8576b"
             ],
             [
              0.6666666666666666,
              "#ed7953"
             ],
             [
              0.7777777777777778,
              "#fb9f3a"
             ],
             [
              0.8888888888888888,
              "#fdca26"
             ],
             [
              1,
              "#f0f921"
             ]
            ],
            "type": "contour"
           }
          ],
          "contourcarpet": [
           {
            "colorbar": {
             "outlinewidth": 0,
             "ticks": ""
            },
            "type": "contourcarpet"
           }
          ],
          "heatmap": [
           {
            "colorbar": {
             "outlinewidth": 0,
             "ticks": ""
            },
            "colorscale": [
             [
              0,
              "#0d0887"
             ],
             [
              0.1111111111111111,
              "#46039f"
             ],
             [
              0.2222222222222222,
              "#7201a8"
             ],
             [
              0.3333333333333333,
              "#9c179e"
             ],
             [
              0.4444444444444444,
              "#bd3786"
             ],
             [
              0.5555555555555556,
              "#d8576b"
             ],
             [
              0.6666666666666666,
              "#ed7953"
             ],
             [
              0.7777777777777778,
              "#fb9f3a"
             ],
             [
              0.8888888888888888,
              "#fdca26"
             ],
             [
              1,
              "#f0f921"
             ]
            ],
            "type": "heatmap"
           }
          ],
          "heatmapgl": [
           {
            "colorbar": {
             "outlinewidth": 0,
             "ticks": ""
            },
            "colorscale": [
             [
              0,
              "#0d0887"
             ],
             [
              0.1111111111111111,
              "#46039f"
             ],
             [
              0.2222222222222222,
              "#7201a8"
             ],
             [
              0.3333333333333333,
              "#9c179e"
             ],
             [
              0.4444444444444444,
              "#bd3786"
             ],
             [
              0.5555555555555556,
              "#d8576b"
             ],
             [
              0.6666666666666666,
              "#ed7953"
             ],
             [
              0.7777777777777778,
              "#fb9f3a"
             ],
             [
              0.8888888888888888,
              "#fdca26"
             ],
             [
              1,
              "#f0f921"
             ]
            ],
            "type": "heatmapgl"
           }
          ],
          "histogram": [
           {
            "marker": {
             "pattern": {
              "fillmode": "overlay",
              "size": 10,
              "solidity": 0.2
             }
            },
            "type": "histogram"
           }
          ],
          "histogram2d": [
           {
            "colorbar": {
             "outlinewidth": 0,
             "ticks": ""
            },
            "colorscale": [
             [
              0,
              "#0d0887"
             ],
             [
              0.1111111111111111,
              "#46039f"
             ],
             [
              0.2222222222222222,
              "#7201a8"
             ],
             [
              0.3333333333333333,
              "#9c179e"
             ],
             [
              0.4444444444444444,
              "#bd3786"
             ],
             [
              0.5555555555555556,
              "#d8576b"
             ],
             [
              0.6666666666666666,
              "#ed7953"
             ],
             [
              0.7777777777777778,
              "#fb9f3a"
             ],
             [
              0.8888888888888888,
              "#fdca26"
             ],
             [
              1,
              "#f0f921"
             ]
            ],
            "type": "histogram2d"
           }
          ],
          "histogram2dcontour": [
           {
            "colorbar": {
             "outlinewidth": 0,
             "ticks": ""
            },
            "colorscale": [
             [
              0,
              "#0d0887"
             ],
             [
              0.1111111111111111,
              "#46039f"
             ],
             [
              0.2222222222222222,
              "#7201a8"
             ],
             [
              0.3333333333333333,
              "#9c179e"
             ],
             [
              0.4444444444444444,
              "#bd3786"
             ],
             [
              0.5555555555555556,
              "#d8576b"
             ],
             [
              0.6666666666666666,
              "#ed7953"
             ],
             [
              0.7777777777777778,
              "#fb9f3a"
             ],
             [
              0.8888888888888888,
              "#fdca26"
             ],
             [
              1,
              "#f0f921"
             ]
            ],
            "type": "histogram2dcontour"
           }
          ],
          "mesh3d": [
           {
            "colorbar": {
             "outlinewidth": 0,
             "ticks": ""
            },
            "type": "mesh3d"
           }
          ],
          "parcoords": [
           {
            "line": {
             "colorbar": {
              "outlinewidth": 0,
              "ticks": ""
             }
            },
            "type": "parcoords"
           }
          ],
          "pie": [
           {
            "automargin": true,
            "type": "pie"
           }
          ],
          "scatter": [
           {
            "fillpattern": {
             "fillmode": "overlay",
             "size": 10,
             "solidity": 0.2
            },
            "type": "scatter"
           }
          ],
          "scatter3d": [
           {
            "line": {
             "colorbar": {
              "outlinewidth": 0,
              "ticks": ""
             }
            },
            "marker": {
             "colorbar": {
              "outlinewidth": 0,
              "ticks": ""
             }
            },
            "type": "scatter3d"
           }
          ],
          "scattercarpet": [
           {
            "marker": {
             "colorbar": {
              "outlinewidth": 0,
              "ticks": ""
             }
            },
            "type": "scattercarpet"
           }
          ],
          "scattergeo": [
           {
            "marker": {
             "colorbar": {
              "outlinewidth": 0,
              "ticks": ""
             }
            },
            "type": "scattergeo"
           }
          ],
          "scattergl": [
           {
            "marker": {
             "colorbar": {
              "outlinewidth": 0,
              "ticks": ""
             }
            },
            "type": "scattergl"
           }
          ],
          "scattermapbox": [
           {
            "marker": {
             "colorbar": {
              "outlinewidth": 0,
              "ticks": ""
             }
            },
            "type": "scattermapbox"
           }
          ],
          "scatterpolar": [
           {
            "marker": {
             "colorbar": {
              "outlinewidth": 0,
              "ticks": ""
             }
            },
            "type": "scatterpolar"
           }
          ],
          "scatterpolargl": [
           {
            "marker": {
             "colorbar": {
              "outlinewidth": 0,
              "ticks": ""
             }
            },
            "type": "scatterpolargl"
           }
          ],
          "scatterternary": [
           {
            "marker": {
             "colorbar": {
              "outlinewidth": 0,
              "ticks": ""
             }
            },
            "type": "scatterternary"
           }
          ],
          "surface": [
           {
            "colorbar": {
             "outlinewidth": 0,
             "ticks": ""
            },
            "colorscale": [
             [
              0,
              "#0d0887"
             ],
             [
              0.1111111111111111,
              "#46039f"
             ],
             [
              0.2222222222222222,
              "#7201a8"
             ],
             [
              0.3333333333333333,
              "#9c179e"
             ],
             [
              0.4444444444444444,
              "#bd3786"
             ],
             [
              0.5555555555555556,
              "#d8576b"
             ],
             [
              0.6666666666666666,
              "#ed7953"
             ],
             [
              0.7777777777777778,
              "#fb9f3a"
             ],
             [
              0.8888888888888888,
              "#fdca26"
             ],
             [
              1,
              "#f0f921"
             ]
            ],
            "type": "surface"
           }
          ],
          "table": [
           {
            "cells": {
             "fill": {
              "color": "#EBF0F8"
             },
             "line": {
              "color": "white"
             }
            },
            "header": {
             "fill": {
              "color": "#C8D4E3"
             },
             "line": {
              "color": "white"
             }
            },
            "type": "table"
           }
          ]
         },
         "layout": {
          "annotationdefaults": {
           "arrowcolor": "#2a3f5f",
           "arrowhead": 0,
           "arrowwidth": 1
          },
          "autotypenumbers": "strict",
          "coloraxis": {
           "colorbar": {
            "outlinewidth": 0,
            "ticks": ""
           }
          },
          "colorscale": {
           "diverging": [
            [
             0,
             "#8e0152"
            ],
            [
             0.1,
             "#c51b7d"
            ],
            [
             0.2,
             "#de77ae"
            ],
            [
             0.3,
             "#f1b6da"
            ],
            [
             0.4,
             "#fde0ef"
            ],
            [
             0.5,
             "#f7f7f7"
            ],
            [
             0.6,
             "#e6f5d0"
            ],
            [
             0.7,
             "#b8e186"
            ],
            [
             0.8,
             "#7fbc41"
            ],
            [
             0.9,
             "#4d9221"
            ],
            [
             1,
             "#276419"
            ]
           ],
           "sequential": [
            [
             0,
             "#0d0887"
            ],
            [
             0.1111111111111111,
             "#46039f"
            ],
            [
             0.2222222222222222,
             "#7201a8"
            ],
            [
             0.3333333333333333,
             "#9c179e"
            ],
            [
             0.4444444444444444,
             "#bd3786"
            ],
            [
             0.5555555555555556,
             "#d8576b"
            ],
            [
             0.6666666666666666,
             "#ed7953"
            ],
            [
             0.7777777777777778,
             "#fb9f3a"
            ],
            [
             0.8888888888888888,
             "#fdca26"
            ],
            [
             1,
             "#f0f921"
            ]
           ],
           "sequentialminus": [
            [
             0,
             "#0d0887"
            ],
            [
             0.1111111111111111,
             "#46039f"
            ],
            [
             0.2222222222222222,
             "#7201a8"
            ],
            [
             0.3333333333333333,
             "#9c179e"
            ],
            [
             0.4444444444444444,
             "#bd3786"
            ],
            [
             0.5555555555555556,
             "#d8576b"
            ],
            [
             0.6666666666666666,
             "#ed7953"
            ],
            [
             0.7777777777777778,
             "#fb9f3a"
            ],
            [
             0.8888888888888888,
             "#fdca26"
            ],
            [
             1,
             "#f0f921"
            ]
           ]
          },
          "colorway": [
           "#636efa",
           "#EF553B",
           "#00cc96",
           "#ab63fa",
           "#FFA15A",
           "#19d3f3",
           "#FF6692",
           "#B6E880",
           "#FF97FF",
           "#FECB52"
          ],
          "font": {
           "color": "#2a3f5f"
          },
          "geo": {
           "bgcolor": "white",
           "lakecolor": "white",
           "landcolor": "white",
           "showlakes": true,
           "showland": true,
           "subunitcolor": "#C8D4E3"
          },
          "hoverlabel": {
           "align": "left"
          },
          "hovermode": "closest",
          "mapbox": {
           "style": "light"
          },
          "paper_bgcolor": "white",
          "plot_bgcolor": "white",
          "polar": {
           "angularaxis": {
            "gridcolor": "#EBF0F8",
            "linecolor": "#EBF0F8",
            "ticks": ""
           },
           "bgcolor": "white",
           "radialaxis": {
            "gridcolor": "#EBF0F8",
            "linecolor": "#EBF0F8",
            "ticks": ""
           }
          },
          "scene": {
           "xaxis": {
            "backgroundcolor": "white",
            "gridcolor": "#DFE8F3",
            "gridwidth": 2,
            "linecolor": "#EBF0F8",
            "showbackground": true,
            "ticks": "",
            "zerolinecolor": "#EBF0F8"
           },
           "yaxis": {
            "backgroundcolor": "white",
            "gridcolor": "#DFE8F3",
            "gridwidth": 2,
            "linecolor": "#EBF0F8",
            "showbackground": true,
            "ticks": "",
            "zerolinecolor": "#EBF0F8"
           },
           "zaxis": {
            "backgroundcolor": "white",
            "gridcolor": "#DFE8F3",
            "gridwidth": 2,
            "linecolor": "#EBF0F8",
            "showbackground": true,
            "ticks": "",
            "zerolinecolor": "#EBF0F8"
           }
          },
          "shapedefaults": {
           "line": {
            "color": "#2a3f5f"
           }
          },
          "ternary": {
           "aaxis": {
            "gridcolor": "#DFE8F3",
            "linecolor": "#A2B1C6",
            "ticks": ""
           },
           "baxis": {
            "gridcolor": "#DFE8F3",
            "linecolor": "#A2B1C6",
            "ticks": ""
           },
           "bgcolor": "white",
           "caxis": {
            "gridcolor": "#DFE8F3",
            "linecolor": "#A2B1C6",
            "ticks": ""
           }
          },
          "title": {
           "x": 0.05
          },
          "xaxis": {
           "automargin": true,
           "gridcolor": "#EBF0F8",
           "linecolor": "#EBF0F8",
           "ticks": "",
           "title": {
            "standoff": 15
           },
           "zerolinecolor": "#EBF0F8",
           "zerolinewidth": 2
          },
          "yaxis": {
           "automargin": true,
           "gridcolor": "#EBF0F8",
           "linecolor": "#EBF0F8",
           "ticks": "",
           "title": {
            "standoff": 15
           },
           "zerolinecolor": "#EBF0F8",
           "zerolinewidth": 2
          }
         }
        },
        "xaxis": {
         "anchor": "y",
         "domain": [
          0,
          1
         ],
         "title": {
          "text": "week"
         }
        },
        "yaxis": {
         "anchor": "x",
         "domain": [
          0,
          1
         ],
         "title": {
          "text": "period_range"
         }
        }
       }
      },
      "text/html": [
       "<div>                            <div id=\"b0e1b008-7264-4769-837b-86cf7642d1f9\" class=\"plotly-graph-div\" style=\"height:525px; width:100%;\"></div>            <script type=\"text/javascript\">                require([\"plotly\"], function(Plotly) {                    window.PLOTLYENV=window.PLOTLYENV || {};                                    if (document.getElementById(\"b0e1b008-7264-4769-837b-86cf7642d1f9\")) {                    Plotly.newPlot(                        \"b0e1b008-7264-4769-837b-86cf7642d1f9\",                        [{\"hovertemplate\":\"open_time_hr=0<br>week=%{x}<br>period_range=%{y}<extra></extra>\",\"legendgroup\":\"0\",\"line\":{\"color\":\"#636efa\",\"dash\":\"solid\"},\"marker\":{\"symbol\":\"circle\"},\"mode\":\"lines\",\"name\":\"0\",\"showlegend\":true,\"x\":[1,2,3,4,5,6,7,8,9,10,11,12,13,14,15,16,17,18,19,20,21,22,23,24,25,26,27,28,29,30,31,32,33,34,35,36,37,38,39,40,41,42,43,44,45,46,47,48,49,50,51,52],\"xaxis\":\"x\",\"y\":[443.1200000000026,386.9800000000032,319.49000000000524,439.8399999999965,350.91999999999825,436.8099999999977,277.95000000000437,566.9699999999939,474.6100000000006,373.5500000000029,328.9100000000035,260.5599999999977,347.0,295.6600000000035,296.5699999999997,290.97000000000116,306.7900000000009,273.6600000000035,546.630000000001,280.90000000000146,266.0300000000025,170.9900000000016,276.3899999999994,383.34000000000015,308.97000000000116,189.8199999999997,240.95000000000073,199.38000000000102,264.22000000000116,262.0,207.29999999999927,182.72999999999956,219.0099999999984,178.52999999999884,138.9300000000003,179.25,206.69000000000233,162.97000000000116,168.05999999999767,169.3199999999997,107.88999999999942,100.47000000000116,125.58000000000175,128.69000000000233,255.13000000000102,147.09000000000015,93.40999999999985,113.63999999999942,80.0099999999984,84.04999999999927,62.7599999999984,251.35499999999956],\"yaxis\":\"y\",\"type\":\"scattergl\"},{\"hovertemplate\":\"open_time_hr=1<br>week=%{x}<br>period_range=%{y}<extra></extra>\",\"legendgroup\":\"1\",\"line\":{\"color\":\"#EF553B\",\"dash\":\"solid\"},\"marker\":{\"symbol\":\"circle\"},\"mode\":\"lines\",\"name\":\"1\",\"showlegend\":true,\"x\":[1,2,3,4,5,6,7,8,9,10,11,12,13,14,15,16,17,18,19,20,21,22,23,24,25,26,27,28,29,30,31,32,33,34,35,36,37,38,39,40,41,42,43,44,45,46,47,48,49,50,51,52],\"xaxis\":\"x\",\"y\":[328.1399999999994,249.0,257.9400000000023,426.91999999999825,231.13999999999942,300.48999999999796,254.66999999999825,615.5499999999956,516.9599999999991,405.1900000000023,490.0,283.16999999999825,534.9100000000035,291.6299999999974,261.65000000000146,170.2300000000032,175.0,160.12000000000262,456.4599999999991,399.8099999999977,158.62000000000262,200.27000000000044,345.9399999999987,631.6899999999987,273.09000000000015,150.72999999999956,173.79999999999927,209.08000000000175,242.70000000000073,153.28000000000247,154.77999999999884,162.4300000000003,134.38999999999942,117.20000000000073,100.59000000000015,141.20999999999913,136.14999999999782,148.09000000000015,184.84000000000015,81.66999999999825,66.97000000000116,70.87000000000262,99.10000000000218,119.29999999999927,184.22999999999956,83.63000000000102,92.05999999999949,125.65999999999985,67.40000000000146,58.11000000000058,45.54999999999927,326.45000000000437],\"yaxis\":\"y\",\"type\":\"scattergl\"},{\"hovertemplate\":\"open_time_hr=2<br>week=%{x}<br>period_range=%{y}<extra></extra>\",\"legendgroup\":\"2\",\"line\":{\"color\":\"#00cc96\",\"dash\":\"solid\"},\"marker\":{\"symbol\":\"circle\"},\"mode\":\"lines\",\"name\":\"2\",\"showlegend\":true,\"x\":[1,2,3,4,5,6,7,8,9,10,11,12,13,14,15,16,17,18,19,20,21,22,23,24,25,26,27,28,29,30,31,32,33,34,35,36,37,38,39,40,41,42,43,44,45,46,47,48,49,50,51,52],\"xaxis\":\"x\",\"y\":[278.65000000000146,262.2900000000009,286.9100000000035,263.13000000000466,280.5,378.8899999999994,220.0,387.9599999999991,241.92000000000553,433.4799999999959,276.6100000000006,288.65000000000146,245.61999999999534,218.29000000000087,260.4800000000032,163.91999999999825,222.2199999999939,243.62999999999738,782.7900000000009,246.16999999999825,171.22999999999956,134.9900000000016,295.3299999999981,323.59000000000015,228.27000000000044,143.4300000000003,176.55999999999767,132.7400000000016,246.5,180.45000000000073,112.43999999999869,182.7400000000016,157.59999999999854,113.80000000000291,124.30000000000291,121.16999999999825,181.41999999999825,131.0,164.48999999999796,67.04999999999927,72.98999999999796,67.7400000000016,88.2599999999984,73.75,218.47999999999956,131.77999999999884,133.96000000000276,59.26999999999862,51.19000000000233,59.19000000000233,41.81999999999971,174.05999999999767],\"yaxis\":\"y\",\"type\":\"scattergl\"},{\"hovertemplate\":\"open_time_hr=3<br>week=%{x}<br>period_range=%{y}<extra></extra>\",\"legendgroup\":\"3\",\"line\":{\"color\":\"#ab63fa\",\"dash\":\"solid\"},\"marker\":{\"symbol\":\"circle\"},\"mode\":\"lines\",\"name\":\"3\",\"showlegend\":true,\"x\":[1,2,3,4,5,6,7,8,9,10,11,12,13,14,15,16,17,18,19,20,21,22,23,24,25,26,27,28,29,30,31,32,33,34,35,36,37,38,39,40,41,42,43,44,45,46,47,48,49,50,51,52],\"xaxis\":\"x\",\"y\":[362.4100000000035,185.34999999999854,357.34999999999854,293.5899999999965,154.20000000000437,316.2700000000041,207.0699999999997,449.4300000000003,287.9599999999991,383.25999999999476,204.40999999999622,284.84999999999854,228.94000000000233,174.45999999999913,207.25,160.02999999999884,198.55999999999767,138.16999999999825,534.119999999999,236.0,153.27999999999884,153.88000000000102,350.7599999999984,487.4399999999987,237.5,127.18000000000029,144.13999999999942,171.34000000000015,188.13000000000102,178.69000000000233,127.90999999999985,89.63999999999942,96.66999999999825,103.54999999999927,164.3199999999997,97.18000000000029,127.81999999999971,134.0600000000013,117.09000000000015,73.70999999999913,47.54000000000087,54.210000000002765,93.18999999999869,59.45999999999913,327.4500000000007,98.29000000000087,87.45999999999913,45.48999999999978,43.04000000000087,45.38999999999942,58.04000000000087,156.50999999999476],\"yaxis\":\"y\",\"type\":\"scattergl\"},{\"hovertemplate\":\"open_time_hr=4<br>week=%{x}<br>period_range=%{y}<extra></extra>\",\"legendgroup\":\"4\",\"line\":{\"color\":\"#FFA15A\",\"dash\":\"solid\"},\"marker\":{\"symbol\":\"circle\"},\"mode\":\"lines\",\"name\":\"4\",\"showlegend\":true,\"x\":[1,2,3,4,5,6,7,8,9,10,11,12,13,14,15,16,17,18,19,20,21,22,23,24,25,26,27,28,29,30,31,32,33,34,35,36,37,38,39,40,41,42,43,44,45,46,47,48,49,50,51,52],\"xaxis\":\"x\",\"y\":[302.52999999999884,248.5199999999968,220.44000000000233,408.4499999999971,176.95999999999913,255.66999999999825,301.02999999999884,290.4400000000023,349.9400000000023,283.51000000000204,272.08000000000175,217.15999999999622,321.5400000000009,256.3799999999974,198.88999999999942,225.0,178.11000000000058,156.9499999999971,357.8500000000022,194.4300000000003,141.15000000000146,173.1800000000003,152.59999999999854,356.90999999999985,194.15999999999985,123.81999999999971,135.72000000000116,181.11000000000058,216.2599999999984,154.61000000000058,86.52999999999884,141.97000000000116,112.61999999999898,102.27000000000044,112.89999999999782,106.43000000000029,121.65999999999985,105.83000000000175,117.29000000000087,93.41999999999825,55.090000000000146,57.400000000001455,98.61000000000058,55.159999999999854,197.71999999999753,95.59000000000015,83.20999999999913,62.75,40.0,51.159999999999854,33.04999999999927,296.09999999999854],\"yaxis\":\"y\",\"type\":\"scattergl\"},{\"hovertemplate\":\"open_time_hr=5<br>week=%{x}<br>period_range=%{y}<extra></extra>\",\"legendgroup\":\"5\",\"line\":{\"color\":\"#19d3f3\",\"dash\":\"solid\"},\"marker\":{\"symbol\":\"circle\"},\"mode\":\"lines\",\"name\":\"5\",\"showlegend\":true,\"x\":[1,2,3,4,5,6,7,8,9,10,11,12,13,14,15,16,17,18,19,20,21,22,23,24,25,26,27,28,29,30,31,32,33,34,35,36,37,38,39,40,41,42,43,44,45,46,47,48,49,50,51,52],\"xaxis\":\"x\",\"y\":[382.0,229.3199999999997,297.8099999999977,270.5599999999977,219.77999999999884,255.58000000000175,229.38000000000466,425.3400000000038,230.63999999999942,377.5400000000009,189.90000000000146,161.25,206.75999999999476,201.22999999999593,148.38999999999942,156.27999999999884,210.24000000000524,158.9300000000003,657.5200000000004,170.11999999999898,185.47999999999956,148.23999999999796,215.2400000000016,583.0600000000013,230.67999999999665,125.18999999999869,194.41999999999825,149.65000000000146,286.47000000000116,140.97000000000116,98.56999999999971,96.5,111.47999999999956,191.11000000000058,94.05999999999767,111.95999999999913,118.52000000000044,113.42000000000189,148.29000000000087,89.75,74.70999999999913,52.04999999999927,73.55000000000291,69.59999999999854,291.9399999999987,89.36000000000058,60.64000000000124,67.88999999999942,37.80000000000291,40.38000000000102,37.38000000000102,257.54999999999563],\"yaxis\":\"y\",\"type\":\"scattergl\"},{\"hovertemplate\":\"open_time_hr=6<br>week=%{x}<br>period_range=%{y}<extra></extra>\",\"legendgroup\":\"6\",\"line\":{\"color\":\"#FF6692\",\"dash\":\"solid\"},\"marker\":{\"symbol\":\"circle\"},\"mode\":\"lines\",\"name\":\"6\",\"showlegend\":true,\"x\":[1,2,3,4,5,6,7,8,9,10,11,12,13,14,15,16,17,18,19,20,21,22,23,24,25,26,27,28,29,30,31,32,33,34,35,36,37,38,39,40,41,42,43,44,45,46,47,48,49,50,51,52],\"xaxis\":\"x\",\"y\":[267.2300000000032,236.9300000000003,240.0500000000029,315.9099999999962,242.9100000000035,297.3199999999997,235.65000000000146,299.3899999999994,444.01000000000204,227.59999999999854,267.1200000000026,301.06000000000495,233.75,197.62999999999738,186.2899999999936,151.01000000000204,199.91999999999825,156.87999999999738,362.4399999999987,337.3000000000029,247.14000000000306,144.9399999999987,158.8199999999997,447.26000000000204,311.22999999999956,158.70999999999913,112.63999999999942,154.66999999999825,217.4300000000003,105.93000000000029,161.20000000000073,126.71000000000276,207.6800000000003,158.1899999999987,108.5099999999984,127.63999999999942,111.52999999999884,108.45999999999913,140.47999999999956,142.9900000000016,58.95999999999913,53.659999999999854,80.43000000000029,81.13999999999942,187.88000000000102,86.04999999999927,93.84999999999854,54.0,42.61999999999898,38.70999999999913,37.830000000001746,232.76000000000204],\"yaxis\":\"y\",\"type\":\"scattergl\"},{\"hovertemplate\":\"open_time_hr=7<br>week=%{x}<br>period_range=%{y}<extra></extra>\",\"legendgroup\":\"7\",\"line\":{\"color\":\"#B6E880\",\"dash\":\"solid\"},\"marker\":{\"symbol\":\"circle\"},\"mode\":\"lines\",\"name\":\"7\",\"showlegend\":true,\"x\":[1,2,3,4,5,6,7,8,9,10,11,12,13,14,15,16,17,18,19,20,21,22,23,24,25,26,27,28,29,30,31,32,33,34,35,36,37,38,39,40,41,42,43,44,45,46,47,48,49,50,51,52],\"xaxis\":\"x\",\"y\":[227.62000000000262,212.42000000000553,536.8499999999985,321.3199999999997,188.45999999999913,275.1399999999994,249.73999999999796,289.8899999999994,273.6599999999962,315.9400000000023,322.5,226.27999999999884,225.04000000000087,179.72999999999593,203.09999999999854,277.2299999999959,277.01000000000204,215.11000000000058,358.8799999999974,246.0,159.61000000000058,168.27999999999884,170.33000000000175,533.2000000000007,282.82000000000335,157.79000000000087,150.02999999999884,221.29999999999927,298.119999999999,145.0,122.61999999999898,153.6899999999987,185.0799999999981,145.38000000000102,121.61000000000058,177.33000000000175,183.47999999999956,158.33000000000175,142.88999999999942,92.31999999999971,84.56000000000131,73.2400000000016,109.79999999999927,83.54999999999927,238.1899999999987,85.33000000000175,104.27999999999884,58.780000000002474,41.13000000000102,55.54000000000087,48.02000000000044,212.37999999999738],\"yaxis\":\"y\",\"type\":\"scattergl\"},{\"hovertemplate\":\"open_time_hr=8<br>week=%{x}<br>period_range=%{y}<extra></extra>\",\"legendgroup\":\"8\",\"line\":{\"color\":\"#FF97FF\",\"dash\":\"solid\"},\"marker\":{\"symbol\":\"circle\"},\"mode\":\"lines\",\"name\":\"8\",\"showlegend\":true,\"x\":[1,2,3,4,5,6,7,8,9,10,11,12,13,14,15,16,17,18,19,20,21,22,23,24,25,26,27,28,29,30,31,32,33,34,35,36,37,38,39,40,41,42,43,44,45,46,47,48,49,50,51,52],\"xaxis\":\"x\",\"y\":[334.66999999999825,245.01000000000204,298.5500000000029,452.59999999999854,197.97000000000116,281.59999999999854,414.6999999999971,419.47000000000116,405.8400000000038,488.6399999999994,222.65000000000146,263.3899999999994,283.8099999999977,175.97000000000116,195.02999999999884,213.40000000000146,239.54000000000087,214.54999999999563,475.9399999999987,258.0,249.52000000000044,135.61000000000058,193.35000000000218,447.39000000000306,205.13999999999942,225.25,169.41999999999825,153.6700000000019,240.44000000000233,157.61999999999898,158.61000000000058,210.4399999999987,139.5699999999997,140.0699999999997,122.52000000000044,106.68999999999869,149.13999999999942,136.95000000000073,99.29000000000087,106.70000000000073,80.03000000000247,61.340000000000146,170.2599999999984,97.95000000000073,189.86999999999898,153.11999999999898,75.98999999999978,73.95000000000073,33.109999999996944,47.0,55.70000000000073,269.58000000000175],\"yaxis\":\"y\",\"type\":\"scattergl\"},{\"hovertemplate\":\"open_time_hr=9<br>week=%{x}<br>period_range=%{y}<extra></extra>\",\"legendgroup\":\"9\",\"line\":{\"color\":\"#FECB52\",\"dash\":\"solid\"},\"marker\":{\"symbol\":\"circle\"},\"mode\":\"lines\",\"name\":\"9\",\"showlegend\":true,\"x\":[1,2,3,4,5,6,7,8,9,10,11,12,13,14,15,16,17,18,19,20,21,22,23,24,25,26,27,28,29,30,31,32,33,34,35,36,37,38,39,40,41,42,43,44,45,46,47,48,49,50,51,52],\"xaxis\":\"x\",\"y\":[331.25,238.63999999999942,347.72000000000116,412.09999999999854,240.38999999999942,402.3700000000026,269.47000000000116,383.5900000000038,404.1399999999994,282.98999999999796,303.72000000000116,262.22000000000116,233.75,188.23999999999796,182.88999999999942,191.88999999999942,248.11999999999534,185.58000000000175,434.0499999999993,263.4300000000003,200.97000000000116,148.22999999999956,202.59000000000015,410.6399999999994,297.5,190.3199999999997,164.0,161.39000000000306,176.61000000000058,127.54000000000087,113.7599999999984,172.27000000000044,144.47000000000116,90.9900000000016,94.70999999999913,98.09000000000015,136.61000000000058,156.5600000000013,139.47000000000116,75.32000000000335,68.36000000000058,90.93000000000029,95.54000000000087,90.18000000000029,130.61999999999898,111.31999999999971,66.06999999999971,46.919999999998254,53.340000000000146,87.34000000000015,36.789999999997235,281.9799999999959],\"yaxis\":\"y\",\"type\":\"scattergl\"},{\"hovertemplate\":\"open_time_hr=10<br>week=%{x}<br>period_range=%{y}<extra></extra>\",\"legendgroup\":\"10\",\"line\":{\"color\":\"#636efa\",\"dash\":\"solid\"},\"marker\":{\"symbol\":\"circle\"},\"mode\":\"lines\",\"name\":\"10\",\"showlegend\":true,\"x\":[1,2,3,4,5,6,7,8,9,10,11,12,13,14,15,16,17,18,19,20,21,22,23,24,25,26,27,28,29,30,31,32,33,34,35,36,37,38,39,40,41,42,43,44,45,46,47,48,49,50,51,52],\"xaxis\":\"x\",\"y\":[372.2099999999991,281.81000000000495,326.5199999999968,360.1900000000023,250.5899999999965,368.68999999999505,252.12999999999738,485.7900000000009,424.5400000000009,263.0400000000009,212.08000000000175,178.00999999999476,175.7699999999968,157.9800000000032,283.3099999999977,217.86999999999534,190.61000000000058,212.27000000000407,420.6899999999987,209.20000000000073,146.0799999999981,179.95000000000073,198.5,482.619999999999,192.86000000000058,122.11999999999898,135.3199999999997,120.59999999999854,230.12999999999738,144.47999999999956,136.8100000000013,149.15999999999985,140.11000000000058,110.15999999999985,115.36000000000058,132.6800000000003,107.17000000000189,165.52000000000044,120.20000000000073,83.77999999999884,79.0,80.36999999999898,115.36000000000058,80.7599999999984,170.3199999999997,98.45999999999913,113.89999999999782,33.029999999998836,45.63000000000102,52.10000000000218,37.18999999999869,208.0399999999936],\"yaxis\":\"y\",\"type\":\"scattergl\"},{\"hovertemplate\":\"open_time_hr=11<br>week=%{x}<br>period_range=%{y}<extra></extra>\",\"legendgroup\":\"11\",\"line\":{\"color\":\"#EF553B\",\"dash\":\"solid\"},\"marker\":{\"symbol\":\"circle\"},\"mode\":\"lines\",\"name\":\"11\",\"showlegend\":true,\"x\":[1,2,3,4,5,6,7,8,9,10,11,12,13,14,15,16,17,18,19,20,21,22,23,24,25,26,27,28,29,30,31,32,33,34,35,36,37,38,39,40,41,42,43,44,45,46,47,48,49,50,51,52],\"xaxis\":\"x\",\"y\":[296.9300000000003,330.6800000000003,298.38000000000466,372.92000000000553,251.38999999999942,354.91999999999825,235.48999999999796,390.83000000000175,303.3000000000029,388.0,228.5500000000029,268.4599999999991,260.34999999999854,278.09999999999854,263.01000000000204,184.00999999999476,327.7900000000009,180.66999999999825,543.9000000000015,283.369999999999,244.47999999999956,180.0699999999997,201.51000000000204,576.7000000000007,285.08000000000175,175.62000000000262,205.71999999999753,173.52999999999884,321.0,222.45000000000073,137.08000000000175,214.7599999999984,156.45000000000073,139.47999999999956,109.18999999999869,101.34000000000015,115.45000000000073,143.8000000000029,186.35000000000218,97.9900000000016,87.93000000000029,71.13000000000102,102.93999999999869,107.45000000000073,165.6899999999987,125.09000000000015,75.93999999999869,65.37000000000262,47.98999999999796,64.02999999999884,34.080000000001746,240.4300000000003],\"yaxis\":\"y\",\"type\":\"scattergl\"},{\"hovertemplate\":\"open_time_hr=12<br>week=%{x}<br>period_range=%{y}<extra></extra>\",\"legendgroup\":\"12\",\"line\":{\"color\":\"#00cc96\",\"dash\":\"solid\"},\"marker\":{\"symbol\":\"circle\"},\"mode\":\"lines\",\"name\":\"12\",\"showlegend\":true,\"x\":[1,2,3,4,5,6,7,8,9,10,11,12,13,14,15,16,17,18,19,20,21,22,23,24,25,26,27,28,29,30,31,32,33,34,35,36,37,38,39,40,41,42,43,44,45,46,47,48,49,50,51,52],\"xaxis\":\"x\",\"y\":[289.76000000000204,427.48999999999796,364.1400000000067,360.8099999999977,304.6100000000006,447.47000000000116,288.6999999999971,426.8000000000029,481.3799999999974,428.1100000000006,352.7900000000009,339.15000000000146,285.4599999999991,338.9099999999962,286.5200000000041,256.63000000000466,276.68999999999505,243.01000000000204,386.0,360.0,285.4300000000003,255.6899999999987,339.21000000000276,588.2099999999991,370.9900000000016,211.95000000000073,186.45000000000073,201.36999999999898,307.8600000000006,264.6399999999994,235.59999999999854,177.0,201.13999999999942,169.9900000000016,208.90999999999985,153.15000000000146,200.9200000000019,168.34000000000015,187.4399999999987,91.52999999999884,133.09000000000015,99.9900000000016,133.04000000000087,103.93000000000029,108.45999999999913,124.22000000000116,95.93000000000029,56.330000000001746,46.06000000000131,65.92000000000189,37.06000000000131,394.1800000000003],\"yaxis\":\"y\",\"type\":\"scattergl\"},{\"hovertemplate\":\"open_time_hr=13<br>week=%{x}<br>period_range=%{y}<extra></extra>\",\"legendgroup\":\"13\",\"line\":{\"color\":\"#ab63fa\",\"dash\":\"solid\"},\"marker\":{\"symbol\":\"circle\"},\"mode\":\"lines\",\"name\":\"13\",\"showlegend\":true,\"x\":[1,2,3,4,5,6,7,8,9,10,11,12,13,14,15,16,17,18,19,20,21,22,23,24,25,26,27,28,29,30,31,32,33,34,35,36,37,38,39,40,41,42,43,44,45,46,47,48,49,50,51,52],\"xaxis\":\"x\",\"y\":[424.52999999999884,332.2699999999968,442.8399999999965,453.0699999999997,436.4099999999962,322.98999999999796,346.48999999999796,486.3700000000026,532.9599999999991,478.6299999999974,348.97000000000116,349.8099999999977,397.59999999999854,370.1399999999994,472.49000000000524,387.67000000000553,556.0800000000017,405.51000000000204,690.75,359.77999999999884,372.0500000000029,302.90999999999985,314.89000000000306,462.9900000000016,288.66999999999825,259.98999999999796,231.86999999999898,274.77999999999884,251.5,279.23999999999796,187.4300000000003,204.44000000000233,172.34000000000015,169.6700000000019,200.88000000000102,181.15000000000146,190.10999999999694,331.91999999999825,213.34999999999854,205.0,146.08000000000175,152.63000000000102,199.2699999999968,124.14999999999782,227.34000000000015,150.38000000000102,75.01000000000204,108.11000000000058,67.11999999999898,99.56999999999971,47.5,210.86000000000058],\"yaxis\":\"y\",\"type\":\"scattergl\"},{\"hovertemplate\":\"open_time_hr=14<br>week=%{x}<br>period_range=%{y}<extra></extra>\",\"legendgroup\":\"14\",\"line\":{\"color\":\"#FFA15A\",\"dash\":\"solid\"},\"marker\":{\"symbol\":\"circle\"},\"mode\":\"lines\",\"name\":\"14\",\"showlegend\":true,\"x\":[1,2,3,4,5,6,7,8,9,10,11,12,13,14,15,16,17,18,19,20,21,22,23,24,25,26,27,28,29,30,31,32,33,34,35,36,37,38,39,40,41,42,43,44,45,46,47,48,49,50,51,52],\"xaxis\":\"x\",\"y\":[520.3899999999994,579.8399999999965,668.1299999999974,519.010000000002,729.9500000000044,576.310000000005,374.66999999999825,549.3600000000006,946.2799999999988,458.65000000000146,399.98999999999796,431.01000000000204,363.0,490.7300000000032,504.52999999999884,292.6399999999994,522.0200000000041,306.8599999999933,648.2799999999988,395.3199999999997,377.9300000000003,485.2599999999984,458.25,423.8299999999981,260.0,245.36000000000058,219.52000000000044,203.45000000000073,348.0699999999997,249.54999999999927,300.08000000000175,168.5600000000013,154.27000000000044,195.2400000000016,253.20999999999913,159.9800000000032,242.08000000000175,223.83000000000175,162.2400000000016,214.0,109.68000000000029,179.1899999999987,199.5600000000013,152.87999999999738,343.880000000001,133.34000000000015,133.95000000000073,116.11999999999898,67.30999999999767,119.67000000000189,111.9900000000016,182.38999999999942],\"yaxis\":\"y\",\"type\":\"scattergl\"},{\"hovertemplate\":\"open_time_hr=15<br>week=%{x}<br>period_range=%{y}<extra></extra>\",\"legendgroup\":\"15\",\"line\":{\"color\":\"#19d3f3\",\"dash\":\"solid\"},\"marker\":{\"symbol\":\"circle\"},\"mode\":\"lines\",\"name\":\"15\",\"showlegend\":true,\"x\":[1,2,3,4,5,6,7,8,9,10,11,12,13,14,15,16,17,18,19,20,21,22,23,24,25,26,27,28,29,30,31,32,33,34,35,36,37,38,39,40,41,42,43,44,45,46,47,48,49,50,51,52],\"xaxis\":\"x\",\"y\":[453.5300000000061,574.5,519.0899999999965,549.0599999999977,483.4400000000023,403.9599999999991,246.55999999999767,653.760000000002,723.0,487.25,337.41999999999825,410.2199999999939,487.0500000000029,374.75999999999476,429.98999999999796,388.1900000000023,505.9499999999971,295.6600000000035,614.9399999999987,367.9300000000003,247.47999999999956,236.71999999999753,352.8600000000006,367.0,306.9599999999991,166.54999999999927,204.9900000000016,154.59999999999854,236.52000000000044,200.45000000000073,187.35000000000218,161.88000000000102,135.52000000000044,198.61000000000058,133.03000000000247,118.40000000000146,182.09000000000015,232.52000000000044,167.64000000000306,130.94000000000233,92.43000000000029,153.29999999999927,128.75,88.42999999999665,301.0,184.23999999999796,93.0,87.27999999999884,64.39999999999782,96.68000000000029,103.31000000000131,318.7300000000032],\"yaxis\":\"y\",\"type\":\"scattergl\"},{\"hovertemplate\":\"open_time_hr=16<br>week=%{x}<br>period_range=%{y}<extra></extra>\",\"legendgroup\":\"16\",\"line\":{\"color\":\"#FF6692\",\"dash\":\"solid\"},\"marker\":{\"symbol\":\"circle\"},\"mode\":\"lines\",\"name\":\"16\",\"showlegend\":true,\"x\":[1,2,3,4,5,6,7,8,9,10,11,12,13,14,15,16,17,18,19,20,21,22,23,24,25,26,27,28,29,30,31,32,33,34,35,36,37,38,39,40,41,42,43,44,45,46,47,48,49,50,51,52],\"xaxis\":\"x\",\"y\":[502.4499999999971,376.8899999999994,416.41999999999825,383.98999999999796,624.8099999999977,592.0899999999965,390.59999999999854,414.27999999999884,543.0799999999945,427.77999999999884,325.2099999999991,296.0400000000009,325.9400000000023,319.0699999999997,347.4300000000003,369.1200000000026,544.4000000000015,346.0500000000029,925.2800000000025,369.72000000000116,277.4399999999987,223.8199999999997,338.72000000000116,432.0099999999984,194.61999999999898,188.34000000000015,235.53000000000247,213.61999999999898,491.1700000000019,216.59000000000015,217.65999999999985,162.13000000000102,171.25,190.20000000000073,202.91999999999825,170.02999999999884,229.69000000000233,197.15000000000146,199.59000000000015,162.22000000000116,100.52000000000044,109.29000000000087,122.70000000000073,144.9200000000019,390.5499999999993,152.72000000000116,136.5600000000013,80.59999999999854,55.92000000000189,102.89000000000306,50.11999999999898,341.16999999999825],\"yaxis\":\"y\",\"type\":\"scattergl\"},{\"hovertemplate\":\"open_time_hr=17<br>week=%{x}<br>period_range=%{y}<extra></extra>\",\"legendgroup\":\"17\",\"line\":{\"color\":\"#B6E880\",\"dash\":\"solid\"},\"marker\":{\"symbol\":\"circle\"},\"mode\":\"lines\",\"name\":\"17\",\"showlegend\":true,\"x\":[1,2,3,4,5,6,7,8,9,10,11,12,13,14,15,16,17,18,19,20,21,22,23,24,25,26,27,28,29,30,31,32,33,34,35,36,37,38,39,40,41,42,43,44,45,46,47,48,49,50,51,52],\"xaxis\":\"x\",\"y\":[417.8000000000029,403.8199999999997,321.9400000000023,418.98999999999796,377.51000000000204,349.76000000000204,295.38000000000466,451.3899999999994,512.0699999999997,303.77999999999884,295.77999999999884,313.51000000000204,342.25999999999476,525.7200000000012,287.01000000000204,240.31000000000495,268.9799999999959,392.4300000000003,738.0,292.40999999999985,243.2400000000016,240.84000000000015,242.08000000000175,445.0,238.1800000000003,133.03000000000247,244.20999999999913,372.02999999999884,349.9900000000016,182.5699999999997,273.8799999999974,138.77999999999884,155.8199999999997,145.59000000000015,141.9499999999971,143.73999999999796,157.53000000000247,219.02999999999884,218.90000000000146,168.38000000000102,59.23999999999796,85.52000000000044,108.5,80.21999999999753,213.61000000000058,102.82999999999811,72.75,68.71999999999935,41.04000000000087,68.06999999999971,49.97999999999956,672.5400000000009],\"yaxis\":\"y\",\"type\":\"scattergl\"},{\"hovertemplate\":\"open_time_hr=18<br>week=%{x}<br>period_range=%{y}<extra></extra>\",\"legendgroup\":\"18\",\"line\":{\"color\":\"#FF97FF\",\"dash\":\"solid\"},\"marker\":{\"symbol\":\"circle\"},\"mode\":\"lines\",\"name\":\"18\",\"showlegend\":true,\"x\":[1,2,3,4,5,6,7,8,9,10,11,12,13,14,15,16,17,18,19,20,21,22,23,24,25,26,27,28,29,30,31,32,33,34,35,36,37,38,39,40,41,42,43,44,45,46,47,48,49,50,51,52],\"xaxis\":\"x\",\"y\":[480.0,334.58000000000175,476.26000000000204,351.2899999999936,247.83000000000175,528.75,385.3600000000006,441.6800000000003,388.83000000000175,262.83000000000175,298.33000000000175,173.79000000000087,418.6100000000006,305.9799999999959,326.6900000000023,291.3700000000026,337.34999999999854,481.51000000000204,516.0999999999985,279.869999999999,207.09000000000015,112.65000000000146,264.3899999999994,447.2599999999984,180.51000000000204,154.01000000000204,225.1800000000003,188.2400000000016,209.13999999999942,295.76000000000204,146.8199999999997,199.47999999999956,145.80999999999767,107.20000000000073,137.8100000000013,176.51000000000204,157.39999999999782,248.83000000000175,226.19000000000233,108.81999999999971,145.8100000000013,105.15999999999985,84.95000000000073,90.61000000000058,243.02000000000044,79.90999999999985,68.0099999999984,81.80000000000109,56.330000000001746,84.95000000000073,57.86000000000058,424.97000000000116],\"yaxis\":\"y\",\"type\":\"scattergl\"},{\"hovertemplate\":\"open_time_hr=19<br>week=%{x}<br>period_range=%{y}<extra></extra>\",\"legendgroup\":\"19\",\"line\":{\"color\":\"#FECB52\",\"dash\":\"solid\"},\"marker\":{\"symbol\":\"circle\"},\"mode\":\"lines\",\"name\":\"19\",\"showlegend\":true,\"x\":[1,2,3,4,5,6,7,8,9,10,11,12,13,14,15,16,17,18,19,20,21,22,23,24,25,26,27,28,29,30,31,32,33,34,35,36,37,38,39,40,41,42,43,44,45,46,47,48,49,50,51,52],\"xaxis\":\"x\",\"y\":[580.0,361.8099999999977,432.82999999999447,473.0599999999977,272.5899999999965,540.6999999999971,290.0,554.0800000000017,384.0,365.52999999999884,266.8399999999965,282.5899999999965,373.4499999999971,432.9099999999962,362.8099999999977,325.34999999999854,316.1100000000006,310.1600000000035,494.6100000000006,353.1899999999987,309.09999999999854,214.1700000000019,232.77000000000044,309.82000000000335,313.72999999999956,196.1800000000003,212.79000000000087,244.04000000000087,359.8299999999981,282.52000000000044,168.66999999999825,148.0600000000013,193.0,117.31999999999971,165.72999999999956,172.7400000000016,145.4300000000003,209.39999999999782,191.27999999999884,185.22999999999956,121.34000000000015,85.38000000000102,95.04999999999927,69.90999999999985,221.12999999999738,110.59000000000015,76.97999999999956,64.16999999999825,61.86999999999898,82.39000000000306,63.220000000001164,319.11999999999534],\"yaxis\":\"y\",\"type\":\"scattergl\"},{\"hovertemplate\":\"open_time_hr=20<br>week=%{x}<br>period_range=%{y}<extra></extra>\",\"legendgroup\":\"20\",\"line\":{\"color\":\"#636efa\",\"dash\":\"solid\"},\"marker\":{\"symbol\":\"circle\"},\"mode\":\"lines\",\"name\":\"20\",\"showlegend\":true,\"x\":[1,2,3,4,5,6,7,8,9,10,11,12,13,14,15,16,17,18,19,20,21,22,23,24,25,26,27,28,29,30,31,32,33,34,35,36,37,38,39,40,41,42,43,44,45,46,47,48,49,50,51,52],\"xaxis\":\"x\",\"y\":[469.7300000000032,366.8000000000029,425.41999999999825,833.7900000000009,326.6800000000003,646.1600000000035,301.02999999999884,504.6399999999994,418.4499999999971,463.4599999999991,485.7099999999991,287.84999999999854,270.97000000000116,315.76000000000204,247.54000000000087,259.2300000000032,438.3899999999994,309.75,482.47999999999956,233.95000000000073,243.77000000000044,183.45999999999913,245.26000000000204,546.380000000001,321.380000000001,232.7400000000016,194.37000000000262,177.0600000000013,229.90000000000146,246.47000000000116,153.59999999999854,195.59000000000015,218.52999999999884,111.40999999999985,123.38999999999942,224.03000000000247,105.80999999999767,139.4900000000016,135.34000000000015,97.71999999999753,74.52000000000044,92.41999999999825,132.29999999999927,59.01000000000204,312.3999999999978,92.5,65.06999999999971,59.82999999999993,52.31000000000131,76.27000000000044,64.84999999999854,234.83000000000175],\"yaxis\":\"y\",\"type\":\"scattergl\"},{\"hovertemplate\":\"open_time_hr=21<br>week=%{x}<br>period_range=%{y}<extra></extra>\",\"legendgroup\":\"21\",\"line\":{\"color\":\"#EF553B\",\"dash\":\"solid\"},\"marker\":{\"symbol\":\"circle\"},\"mode\":\"lines\",\"name\":\"21\",\"showlegend\":true,\"x\":[1,2,3,4,5,6,7,8,9,10,11,12,13,14,15,16,17,18,19,20,21,22,23,24,25,26,27,28,29,30,31,32,33,34,35,36,37,38,39,40,41,42,43,44,45,46,47,48,49,50,51,52],\"xaxis\":\"x\",\"y\":[296.1399999999994,352.09999999999854,650.4799999999959,484.31000000000495,216.29999999999563,479.0699999999997,271.5,411.48999999999796,417.4599999999991,261.6900000000023,319.99000000000524,276.58000000000175,384.6399999999994,388.3000000000029,256.98999999999796,191.72999999999593,226.47000000000116,271.1999999999971,622.380000000001,249.20999999999913,142.45999999999913,181.0,230.36000000000058,528.4500000000007,233.47999999999956,160.26000000000204,217.0,259.5500000000029,213.61999999999898,291.91999999999825,139.97999999999956,161.0600000000013,167.75,115.37999999999738,103.34000000000015,190.60000000000218,176.63000000000102,223.3199999999997,135.90999999999985,119.21000000000276,60.86000000000058,55.70000000000073,89.4900000000016,65.94000000000233,330.7000000000007,83.94000000000233,54.04999999999927,76.77000000000044,48.0099999999984,80.9900000000016,55.04000000000087,274.7100000000064],\"yaxis\":\"y\",\"type\":\"scattergl\"},{\"hovertemplate\":\"open_time_hr=22<br>week=%{x}<br>period_range=%{y}<extra></extra>\",\"legendgroup\":\"22\",\"line\":{\"color\":\"#00cc96\",\"dash\":\"solid\"},\"marker\":{\"symbol\":\"circle\"},\"mode\":\"lines\",\"name\":\"22\",\"showlegend\":true,\"x\":[1,2,3,4,5,6,7,8,9,10,11,12,13,14,15,16,17,18,19,20,21,22,23,24,25,26,27,28,29,30,31,32,33,34,35,36,37,38,39,40,41,42,43,44,45,46,47,48,49,50,51,52],\"xaxis\":\"x\",\"y\":[478.38000000000466,275.2900000000009,667.1399999999994,358.4300000000003,284.1400000000067,402.0,350.8600000000006,611.6399999999994,510.0,327.9300000000003,351.2700000000041,250.0,280.5400000000009,380.5599999999977,307.0500000000029,239.9300000000003,278.59999999999854,283.1100000000006,694.119999999999,245.91999999999825,180.36000000000058,211.10999999999694,173.90999999999985,502.9500000000007,262.6700000000019,174.34999999999854,187.61000000000058,189.76000000000204,304.27999999999884,312.27999999999884,175.39999999999782,183.59000000000015,180.90999999999985,157.25,113.54999999999927,119.38000000000102,146.76000000000204,267.65999999999985,159.70000000000073,97.97000000000116,79.41999999999825,94.27000000000044,180.79000000000087,113.13999999999942,215.21000000000276,99.72000000000116,96.79999999999927,68.86000000000058,45.0,87.63999999999942,46.7300000000032,268.76000000000204],\"yaxis\":\"y\",\"type\":\"scattergl\"},{\"hovertemplate\":\"open_time_hr=23<br>week=%{x}<br>period_range=%{y}<extra></extra>\",\"legendgroup\":\"23\",\"line\":{\"color\":\"#ab63fa\",\"dash\":\"solid\"},\"marker\":{\"symbol\":\"circle\"},\"mode\":\"lines\",\"name\":\"23\",\"showlegend\":true,\"x\":[1,2,3,4,5,6,7,8,9,10,11,12,13,14,15,16,17,18,19,20,21,22,23,24,25,26,27,28,29,30,31,32,33,34,35,36,37,38,39,40,41,42,43,44,45,46,47,48,49,50,51,52],\"xaxis\":\"x\",\"y\":[399.8600000000006,271.9400000000023,377.0,411.79999999999563,335.9800000000032,388.0400000000009,314.4599999999991,529.9499999999971,408.8600000000006,318.2099999999991,315.3799999999974,215.86000000000058,391.79999999999563,343.4599999999991,264.9599999999991,197.0,327.34999999999854,288.5599999999977,500.9599999999991,239.40000000000146,263.75,166.20999999999913,181.27999999999884,301.2999999999993,227.8199999999997,166.14999999999782,183.69000000000233,186.4399999999987,245.86000000000058,238.61000000000058,207.38000000000102,135.0,146.08000000000175,171.39000000000306,183.02999999999884,137.86999999999898,124.25,172.90999999999985,133.32000000000335,88.22999999999956,80.22999999999956,69.40999999999985,89.2400000000016,73.72000000000116,275.8899999999994,99.05000000000291,83.53999999999724,57.81999999999971,58.29999999999927,88.20000000000073,45.56999999999971,213.95999999999913],\"yaxis\":\"y\",\"type\":\"scattergl\"}],                        {\"template\":{\"data\":{\"barpolar\":[{\"marker\":{\"line\":{\"color\":\"white\",\"width\":0.5},\"pattern\":{\"fillmode\":\"overlay\",\"size\":10,\"solidity\":0.2}},\"type\":\"barpolar\"}],\"bar\":[{\"error_x\":{\"color\":\"#2a3f5f\"},\"error_y\":{\"color\":\"#2a3f5f\"},\"marker\":{\"line\":{\"color\":\"white\",\"width\":0.5},\"pattern\":{\"fillmode\":\"overlay\",\"size\":10,\"solidity\":0.2}},\"type\":\"bar\"}],\"carpet\":[{\"aaxis\":{\"endlinecolor\":\"#2a3f5f\",\"gridcolor\":\"#C8D4E3\",\"linecolor\":\"#C8D4E3\",\"minorgridcolor\":\"#C8D4E3\",\"startlinecolor\":\"#2a3f5f\"},\"baxis\":{\"endlinecolor\":\"#2a3f5f\",\"gridcolor\":\"#C8D4E3\",\"linecolor\":\"#C8D4E3\",\"minorgridcolor\":\"#C8D4E3\",\"startlinecolor\":\"#2a3f5f\"},\"type\":\"carpet\"}],\"choropleth\":[{\"colorbar\":{\"outlinewidth\":0,\"ticks\":\"\"},\"type\":\"choropleth\"}],\"contourcarpet\":[{\"colorbar\":{\"outlinewidth\":0,\"ticks\":\"\"},\"type\":\"contourcarpet\"}],\"contour\":[{\"colorbar\":{\"outlinewidth\":0,\"ticks\":\"\"},\"colorscale\":[[0.0,\"#0d0887\"],[0.1111111111111111,\"#46039f\"],[0.2222222222222222,\"#7201a8\"],[0.3333333333333333,\"#9c179e\"],[0.4444444444444444,\"#bd3786\"],[0.5555555555555556,\"#d8576b\"],[0.6666666666666666,\"#ed7953\"],[0.7777777777777778,\"#fb9f3a\"],[0.8888888888888888,\"#fdca26\"],[1.0,\"#f0f921\"]],\"type\":\"contour\"}],\"heatmapgl\":[{\"colorbar\":{\"outlinewidth\":0,\"ticks\":\"\"},\"colorscale\":[[0.0,\"#0d0887\"],[0.1111111111111111,\"#46039f\"],[0.2222222222222222,\"#7201a8\"],[0.3333333333333333,\"#9c179e\"],[0.4444444444444444,\"#bd3786\"],[0.5555555555555556,\"#d8576b\"],[0.6666666666666666,\"#ed7953\"],[0.7777777777777778,\"#fb9f3a\"],[0.8888888888888888,\"#fdca26\"],[1.0,\"#f0f921\"]],\"type\":\"heatmapgl\"}],\"heatmap\":[{\"colorbar\":{\"outlinewidth\":0,\"ticks\":\"\"},\"colorscale\":[[0.0,\"#0d0887\"],[0.1111111111111111,\"#46039f\"],[0.2222222222222222,\"#7201a8\"],[0.3333333333333333,\"#9c179e\"],[0.4444444444444444,\"#bd3786\"],[0.5555555555555556,\"#d8576b\"],[0.6666666666666666,\"#ed7953\"],[0.7777777777777778,\"#fb9f3a\"],[0.8888888888888888,\"#fdca26\"],[1.0,\"#f0f921\"]],\"type\":\"heatmap\"}],\"histogram2dcontour\":[{\"colorbar\":{\"outlinewidth\":0,\"ticks\":\"\"},\"colorscale\":[[0.0,\"#0d0887\"],[0.1111111111111111,\"#46039f\"],[0.2222222222222222,\"#7201a8\"],[0.3333333333333333,\"#9c179e\"],[0.4444444444444444,\"#bd3786\"],[0.5555555555555556,\"#d8576b\"],[0.6666666666666666,\"#ed7953\"],[0.7777777777777778,\"#fb9f3a\"],[0.8888888888888888,\"#fdca26\"],[1.0,\"#f0f921\"]],\"type\":\"histogram2dcontour\"}],\"histogram2d\":[{\"colorbar\":{\"outlinewidth\":0,\"ticks\":\"\"},\"colorscale\":[[0.0,\"#0d0887\"],[0.1111111111111111,\"#46039f\"],[0.2222222222222222,\"#7201a8\"],[0.3333333333333333,\"#9c179e\"],[0.4444444444444444,\"#bd3786\"],[0.5555555555555556,\"#d8576b\"],[0.6666666666666666,\"#ed7953\"],[0.7777777777777778,\"#fb9f3a\"],[0.8888888888888888,\"#fdca26\"],[1.0,\"#f0f921\"]],\"type\":\"histogram2d\"}],\"histogram\":[{\"marker\":{\"pattern\":{\"fillmode\":\"overlay\",\"size\":10,\"solidity\":0.2}},\"type\":\"histogram\"}],\"mesh3d\":[{\"colorbar\":{\"outlinewidth\":0,\"ticks\":\"\"},\"type\":\"mesh3d\"}],\"parcoords\":[{\"line\":{\"colorbar\":{\"outlinewidth\":0,\"ticks\":\"\"}},\"type\":\"parcoords\"}],\"pie\":[{\"automargin\":true,\"type\":\"pie\"}],\"scatter3d\":[{\"line\":{\"colorbar\":{\"outlinewidth\":0,\"ticks\":\"\"}},\"marker\":{\"colorbar\":{\"outlinewidth\":0,\"ticks\":\"\"}},\"type\":\"scatter3d\"}],\"scattercarpet\":[{\"marker\":{\"colorbar\":{\"outlinewidth\":0,\"ticks\":\"\"}},\"type\":\"scattercarpet\"}],\"scattergeo\":[{\"marker\":{\"colorbar\":{\"outlinewidth\":0,\"ticks\":\"\"}},\"type\":\"scattergeo\"}],\"scattergl\":[{\"marker\":{\"colorbar\":{\"outlinewidth\":0,\"ticks\":\"\"}},\"type\":\"scattergl\"}],\"scattermapbox\":[{\"marker\":{\"colorbar\":{\"outlinewidth\":0,\"ticks\":\"\"}},\"type\":\"scattermapbox\"}],\"scatterpolargl\":[{\"marker\":{\"colorbar\":{\"outlinewidth\":0,\"ticks\":\"\"}},\"type\":\"scatterpolargl\"}],\"scatterpolar\":[{\"marker\":{\"colorbar\":{\"outlinewidth\":0,\"ticks\":\"\"}},\"type\":\"scatterpolar\"}],\"scatter\":[{\"fillpattern\":{\"fillmode\":\"overlay\",\"size\":10,\"solidity\":0.2},\"type\":\"scatter\"}],\"scatterternary\":[{\"marker\":{\"colorbar\":{\"outlinewidth\":0,\"ticks\":\"\"}},\"type\":\"scatterternary\"}],\"surface\":[{\"colorbar\":{\"outlinewidth\":0,\"ticks\":\"\"},\"colorscale\":[[0.0,\"#0d0887\"],[0.1111111111111111,\"#46039f\"],[0.2222222222222222,\"#7201a8\"],[0.3333333333333333,\"#9c179e\"],[0.4444444444444444,\"#bd3786\"],[0.5555555555555556,\"#d8576b\"],[0.6666666666666666,\"#ed7953\"],[0.7777777777777778,\"#fb9f3a\"],[0.8888888888888888,\"#fdca26\"],[1.0,\"#f0f921\"]],\"type\":\"surface\"}],\"table\":[{\"cells\":{\"fill\":{\"color\":\"#EBF0F8\"},\"line\":{\"color\":\"white\"}},\"header\":{\"fill\":{\"color\":\"#C8D4E3\"},\"line\":{\"color\":\"white\"}},\"type\":\"table\"}]},\"layout\":{\"annotationdefaults\":{\"arrowcolor\":\"#2a3f5f\",\"arrowhead\":0,\"arrowwidth\":1},\"autotypenumbers\":\"strict\",\"coloraxis\":{\"colorbar\":{\"outlinewidth\":0,\"ticks\":\"\"}},\"colorscale\":{\"diverging\":[[0,\"#8e0152\"],[0.1,\"#c51b7d\"],[0.2,\"#de77ae\"],[0.3,\"#f1b6da\"],[0.4,\"#fde0ef\"],[0.5,\"#f7f7f7\"],[0.6,\"#e6f5d0\"],[0.7,\"#b8e186\"],[0.8,\"#7fbc41\"],[0.9,\"#4d9221\"],[1,\"#276419\"]],\"sequential\":[[0.0,\"#0d0887\"],[0.1111111111111111,\"#46039f\"],[0.2222222222222222,\"#7201a8\"],[0.3333333333333333,\"#9c179e\"],[0.4444444444444444,\"#bd3786\"],[0.5555555555555556,\"#d8576b\"],[0.6666666666666666,\"#ed7953\"],[0.7777777777777778,\"#fb9f3a\"],[0.8888888888888888,\"#fdca26\"],[1.0,\"#f0f921\"]],\"sequentialminus\":[[0.0,\"#0d0887\"],[0.1111111111111111,\"#46039f\"],[0.2222222222222222,\"#7201a8\"],[0.3333333333333333,\"#9c179e\"],[0.4444444444444444,\"#bd3786\"],[0.5555555555555556,\"#d8576b\"],[0.6666666666666666,\"#ed7953\"],[0.7777777777777778,\"#fb9f3a\"],[0.8888888888888888,\"#fdca26\"],[1.0,\"#f0f921\"]]},\"colorway\":[\"#636efa\",\"#EF553B\",\"#00cc96\",\"#ab63fa\",\"#FFA15A\",\"#19d3f3\",\"#FF6692\",\"#B6E880\",\"#FF97FF\",\"#FECB52\"],\"font\":{\"color\":\"#2a3f5f\"},\"geo\":{\"bgcolor\":\"white\",\"lakecolor\":\"white\",\"landcolor\":\"white\",\"showlakes\":true,\"showland\":true,\"subunitcolor\":\"#C8D4E3\"},\"hoverlabel\":{\"align\":\"left\"},\"hovermode\":\"closest\",\"mapbox\":{\"style\":\"light\"},\"paper_bgcolor\":\"white\",\"plot_bgcolor\":\"white\",\"polar\":{\"angularaxis\":{\"gridcolor\":\"#EBF0F8\",\"linecolor\":\"#EBF0F8\",\"ticks\":\"\"},\"bgcolor\":\"white\",\"radialaxis\":{\"gridcolor\":\"#EBF0F8\",\"linecolor\":\"#EBF0F8\",\"ticks\":\"\"}},\"scene\":{\"xaxis\":{\"backgroundcolor\":\"white\",\"gridcolor\":\"#DFE8F3\",\"gridwidth\":2,\"linecolor\":\"#EBF0F8\",\"showbackground\":true,\"ticks\":\"\",\"zerolinecolor\":\"#EBF0F8\"},\"yaxis\":{\"backgroundcolor\":\"white\",\"gridcolor\":\"#DFE8F3\",\"gridwidth\":2,\"linecolor\":\"#EBF0F8\",\"showbackground\":true,\"ticks\":\"\",\"zerolinecolor\":\"#EBF0F8\"},\"zaxis\":{\"backgroundcolor\":\"white\",\"gridcolor\":\"#DFE8F3\",\"gridwidth\":2,\"linecolor\":\"#EBF0F8\",\"showbackground\":true,\"ticks\":\"\",\"zerolinecolor\":\"#EBF0F8\"}},\"shapedefaults\":{\"line\":{\"color\":\"#2a3f5f\"}},\"ternary\":{\"aaxis\":{\"gridcolor\":\"#DFE8F3\",\"linecolor\":\"#A2B1C6\",\"ticks\":\"\"},\"baxis\":{\"gridcolor\":\"#DFE8F3\",\"linecolor\":\"#A2B1C6\",\"ticks\":\"\"},\"bgcolor\":\"white\",\"caxis\":{\"gridcolor\":\"#DFE8F3\",\"linecolor\":\"#A2B1C6\",\"ticks\":\"\"}},\"title\":{\"x\":0.05},\"xaxis\":{\"automargin\":true,\"gridcolor\":\"#EBF0F8\",\"linecolor\":\"#EBF0F8\",\"ticks\":\"\",\"title\":{\"standoff\":15},\"zerolinecolor\":\"#EBF0F8\",\"zerolinewidth\":2},\"yaxis\":{\"automargin\":true,\"gridcolor\":\"#EBF0F8\",\"linecolor\":\"#EBF0F8\",\"ticks\":\"\",\"title\":{\"standoff\":15},\"zerolinecolor\":\"#EBF0F8\",\"zerolinewidth\":2}}},\"xaxis\":{\"anchor\":\"y\",\"domain\":[0.0,1.0],\"title\":{\"text\":\"week\"}},\"yaxis\":{\"anchor\":\"x\",\"domain\":[0.0,1.0],\"title\":{\"text\":\"period_range\"}},\"legend\":{\"title\":{\"text\":\"open_time_hr\"},\"tracegroupgap\":0},\"margin\":{\"t\":60}},                        {\"responsive\": true}                    ).then(function(){\n",
       "                            \n",
       "var gd = document.getElementById('b0e1b008-7264-4769-837b-86cf7642d1f9');\n",
       "var x = new MutationObserver(function (mutations, observer) {{\n",
       "        var display = window.getComputedStyle(gd).display;\n",
       "        if (!display || display === 'none') {{\n",
       "            console.log([gd, 'removed!']);\n",
       "            Plotly.purge(gd);\n",
       "            observer.disconnect();\n",
       "        }}\n",
       "}});\n",
       "\n",
       "// Listen for the removal of the full notebook cells\n",
       "var notebookContainer = gd.closest('#notebook-container');\n",
       "if (notebookContainer) {{\n",
       "    x.observe(notebookContainer, {childList: true});\n",
       "}}\n",
       "\n",
       "// Listen for the clearing of the current output cell\n",
       "var outputEl = gd.closest('.output');\n",
       "if (outputEl) {{\n",
       "    x.observe(outputEl, {childList: true});\n",
       "}}\n",
       "\n",
       "                        })                };                });            </script>        </div>"
      ]
     },
     "metadata": {},
     "output_type": "display_data"
    }
   ],
   "source": [
    "fig = px.line(week_stats.query('symbol == \"BTCUSDT\"'), x = 'week', y = 'period_range', color = 'open_time_hr')\n",
    "fig.update_layout(template='plotly_white')\n",
    "fig.show()\n"
   ]
  },
  {
   "cell_type": "code",
   "execution_count": null,
   "id": "030b5462",
   "metadata": {},
   "outputs": [],
   "source": []
  },
  {
   "cell_type": "code",
   "execution_count": 16,
   "id": "d548fbfb",
   "metadata": {},
   "outputs": [
    {
     "data": {
      "text/html": [
       "<div>\n",
       "<style scoped>\n",
       "    .dataframe tbody tr th:only-of-type {\n",
       "        vertical-align: middle;\n",
       "    }\n",
       "\n",
       "    .dataframe tbody tr th {\n",
       "        vertical-align: top;\n",
       "    }\n",
       "\n",
       "    .dataframe thead th {\n",
       "        text-align: right;\n",
       "    }\n",
       "</style>\n",
       "<table border=\"1\" class=\"dataframe\">\n",
       "  <thead>\n",
       "    <tr style=\"text-align: right;\">\n",
       "      <th></th>\n",
       "      <th>symbol</th>\n",
       "      <th>open_time_hr</th>\n",
       "      <th>period_range</th>\n",
       "    </tr>\n",
       "  </thead>\n",
       "  <tbody>\n",
       "    <tr>\n",
       "      <th>0</th>\n",
       "      <td>ADAUSDT</td>\n",
       "      <td>0</td>\n",
       "      <td>9.100000e-03</td>\n",
       "    </tr>\n",
       "    <tr>\n",
       "      <th>14</th>\n",
       "      <td>ADAUSDT</td>\n",
       "      <td>14</td>\n",
       "      <td>8.950000e-03</td>\n",
       "    </tr>\n",
       "    <tr>\n",
       "      <th>13</th>\n",
       "      <td>ADAUSDT</td>\n",
       "      <td>13</td>\n",
       "      <td>8.700000e-03</td>\n",
       "    </tr>\n",
       "    <tr>\n",
       "      <th>24</th>\n",
       "      <td>BNBBTC</td>\n",
       "      <td>0</td>\n",
       "      <td>6.900000e-05</td>\n",
       "    </tr>\n",
       "    <tr>\n",
       "      <th>39</th>\n",
       "      <td>BNBBTC</td>\n",
       "      <td>15</td>\n",
       "      <td>6.700000e-05</td>\n",
       "    </tr>\n",
       "    <tr>\n",
       "      <th>...</th>\n",
       "      <td>...</td>\n",
       "      <td>...</td>\n",
       "      <td>...</td>\n",
       "    </tr>\n",
       "    <tr>\n",
       "      <th>470</th>\n",
       "      <td>WTCBTC</td>\n",
       "      <td>14</td>\n",
       "      <td>1.400000e-07</td>\n",
       "    </tr>\n",
       "    <tr>\n",
       "      <th>464</th>\n",
       "      <td>WTCBTC</td>\n",
       "      <td>8</td>\n",
       "      <td>1.400000e-07</td>\n",
       "    </tr>\n",
       "    <tr>\n",
       "      <th>480</th>\n",
       "      <td>XRPUSDT</td>\n",
       "      <td>0</td>\n",
       "      <td>6.500000e-03</td>\n",
       "    </tr>\n",
       "    <tr>\n",
       "      <th>494</th>\n",
       "      <td>XRPUSDT</td>\n",
       "      <td>14</td>\n",
       "      <td>6.200000e-03</td>\n",
       "    </tr>\n",
       "    <tr>\n",
       "      <th>493</th>\n",
       "      <td>XRPUSDT</td>\n",
       "      <td>13</td>\n",
       "      <td>5.900000e-03</td>\n",
       "    </tr>\n",
       "  </tbody>\n",
       "</table>\n",
       "<p>63 rows × 3 columns</p>\n",
       "</div>"
      ],
      "text/plain": [
       "      symbol  open_time_hr  period_range\n",
       "0    ADAUSDT             0  9.100000e-03\n",
       "14   ADAUSDT            14  8.950000e-03\n",
       "13   ADAUSDT            13  8.700000e-03\n",
       "24    BNBBTC             0  6.900000e-05\n",
       "39    BNBBTC            15  6.700000e-05\n",
       "..       ...           ...           ...\n",
       "470   WTCBTC            14  1.400000e-07\n",
       "464   WTCBTC             8  1.400000e-07\n",
       "480  XRPUSDT             0  6.500000e-03\n",
       "494  XRPUSDT            14  6.200000e-03\n",
       "493  XRPUSDT            13  5.900000e-03\n",
       "\n",
       "[63 rows x 3 columns]"
      ]
     },
     "execution_count": 16,
     "metadata": {},
     "output_type": "execute_result"
    }
   ],
   "source": [
    "top3_data"
   ]
  },
  {
   "cell_type": "code",
   "execution_count": null,
   "id": "7c5ddcfc",
   "metadata": {},
   "outputs": [],
   "source": []
  },
  {
   "cell_type": "code",
   "execution_count": null,
   "id": "a717c3c3",
   "metadata": {},
   "outputs": [],
   "source": []
  },
  {
   "cell_type": "code",
   "execution_count": null,
   "id": "df371a0d",
   "metadata": {},
   "outputs": [],
   "source": []
  }
 ],
 "metadata": {
  "kernelspec": {
   "display_name": "Python 3",
   "language": "python",
   "name": "python3"
  },
  "language_info": {
   "codemirror_mode": {
    "name": "ipython",
    "version": 3
   },
   "file_extension": ".py",
   "mimetype": "text/x-python",
   "name": "python",
   "nbconvert_exporter": "python",
   "pygments_lexer": "ipython3",
   "version": "3.7.10"
  }
 },
 "nbformat": 4,
 "nbformat_minor": 5
}
