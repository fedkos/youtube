{
 "cells": [
  {
   "cell_type": "code",
   "execution_count": 129,
   "id": "933bb2e6",
   "metadata": {},
   "outputs": [],
   "source": [
    "import pandas as pd\n",
    "import numpy as np\n",
    "from binance.client import Client\n",
    "import binance_keys as bk\n",
    "import datetime \n",
    "from IPython.display import clear_output"
   ]
  },
  {
   "cell_type": "code",
   "execution_count": 130,
   "id": "50e77f8e",
   "metadata": {},
   "outputs": [],
   "source": [
    "client = Client(bk.api_key, bk.secret_key)"
   ]
  },
  {
   "cell_type": "code",
   "execution_count": 131,
   "id": "c3db8188",
   "metadata": {},
   "outputs": [],
   "source": [
    "#getting data from the order book (top 1)\n",
    "\n",
    "\n",
    "def get_ob (pair_name):\n",
    "    \n",
    "    now = str(datetime.datetime.now())\n",
    "    \n",
    "    request = client.get_order_book(symbol=pair_name, limit = 1)\n",
    "    \n",
    "    df = pd.DataFrame(request)\n",
    "    df['bid_price'] = df['bids'].apply(lambda x: x[0])\n",
    "    df['bid_vol'] = df['bids'].apply(lambda x: x[1])\n",
    "    df['ask_price'] = df['asks'].apply(lambda x: x[0])\n",
    "    df['ask_vol'] = df['asks'].apply(lambda x: x[1])\n",
    "    df[['bid_price', 'bid_vol', 'ask_price', 'ask_vol']] = df[['bid_price', 'bid_vol', 'ask_price', 'ask_vol']].astype('float')\n",
    "    df = df[['bid_price', 'ask_price']]\n",
    "    df['datetime'] = now\n",
    "    \n",
    "    return df"
   ]
  },
  {
   "cell_type": "code",
   "execution_count": 132,
   "id": "6c4ab7ae",
   "metadata": {},
   "outputs": [],
   "source": [
    "#using the get_ob function to get defined amount of ticks\n",
    "\n",
    "\n",
    "def tick_table (pair_name, size = 10, show_status = True):\n",
    "    \n",
    "    ticks = []\n",
    "    cnt = 0\n",
    "    \n",
    "    while cnt <= size:\n",
    "        \n",
    "        tick = get_ob(pair_name)\n",
    "        ticks.append(tick)\n",
    "        if show_status == True:\n",
    "            print('Run №', cnt)\n",
    "            cnt += 1\n",
    "            clear_output(wait=True)\n",
    "        elif show_status == False:\n",
    "            cnt += 1\n",
    "    \n",
    "    df = pd.concat(ticks)\n",
    "    \n",
    "    df['datetime'] = pd.to_datetime(df['datetime'])\n",
    "    df = df.reset_index().drop(columns = ['index'])\n",
    "            \n",
    "    return df\n",
    "        \n"
   ]
  },
  {
   "cell_type": "code",
   "execution_count": null,
   "id": "f6cb3d0d",
   "metadata": {},
   "outputs": [
    {
     "name": "stdout",
     "output_type": "stream",
     "text": [
      "Run № 1\n"
     ]
    }
   ],
   "source": [
    "out = tick_table('BTCUSDT', size = 3, show_status = True)\n"
   ]
  },
  {
   "cell_type": "code",
   "execution_count": null,
   "id": "44145848",
   "metadata": {},
   "outputs": [],
   "source": [
    "out"
   ]
  },
  {
   "cell_type": "code",
   "execution_count": 125,
   "id": "3ccc9ec8",
   "metadata": {},
   "outputs": [],
   "source": [
    "#function helps to save files with an unique title in a defined folder\n",
    "\n",
    "def saver (df, path):\n",
    "    min_ts = df['datetime'].min().strftime(\"%Y-%m-%d %H:%M:%S\")\n",
    "    max_ts = df['datetime'].max().strftime(\"%Y-%m-%d %H:%M:%S\")\n",
    "    period_name = min_ts +' - '+ max_ts\n",
    "    df.to_csv(f'{path}/{period_name}.csv')\n"
   ]
  },
  {
   "cell_type": "code",
   "execution_count": 126,
   "id": "5d442734",
   "metadata": {},
   "outputs": [],
   "source": [
    "path = '/Users/alekseyfedko/Desktop/python_trading/youtube/5th_video_tick_parsing'"
   ]
  },
  {
   "cell_type": "code",
   "execution_count": 128,
   "id": "41c5a4cb",
   "metadata": {},
   "outputs": [],
   "source": [
    "saver(out, path)"
   ]
  },
  {
   "cell_type": "code",
   "execution_count": null,
   "id": "693d3d18",
   "metadata": {},
   "outputs": [],
   "source": []
  }
 ],
 "metadata": {
  "kernelspec": {
   "display_name": "Python 3",
   "language": "python",
   "name": "python3"
  },
  "language_info": {
   "codemirror_mode": {
    "name": "ipython",
    "version": 3
   },
   "file_extension": ".py",
   "mimetype": "text/x-python",
   "name": "python",
   "nbconvert_exporter": "python",
   "pygments_lexer": "ipython3",
   "version": "3.7.10"
  }
 },
 "nbformat": 4,
 "nbformat_minor": 5
}
